{
 "cells": [
  {
   "cell_type": "markdown",
   "source": [
    "# Linux Commands and Shell Scripting - Final Project\n",
    "## Scenario\n",
    "You are a lead linux developer at the top-tech company \"ABC International INC.\" ABC currently suffers from a huge bottleneck.Each day, interns must painstakingly access encrypted password files on core servers, and backup those that were updated within the last 24-hours. This introduces human error, lowers security, and takes an unreasonable amount of work.\n",
    "\n",
    "As ABC INC's most trusted linux developer, you have been tasked with creating a script backup.sh which automatically backs up any of these files that have been updated within the past 24 hours.\n",
    "## Objectives\n",
    "1. The objective of this lab is to incorporate much of the shell scripting you've learned over this course into a single script.\n",
    "2. You will schedule your shell script to run every 24 hours using crontab.\n",
    "3. TIP: If you're unsure whether some of your code will work as wanted, you can try the command directly in the terminal - and even create your own test scripts!"
   ],
   "metadata": {
    "collapsed": false,
    "pycharm": {
     "name": "#%% md\n"
    }
   }
  },
  {
   "cell_type": "code",
   "execution_count": null,
   "outputs": [],
   "source": [],
   "metadata": {
    "collapsed": false,
    "pycharm": {
     "name": "#%%\n"
    }
   }
  }
 ],
 "metadata": {
  "kernelspec": {
   "display_name": "Python 3",
   "language": "python",
   "name": "python3"
  },
  "language_info": {
   "codemirror_mode": {
    "name": "ipython",
    "version": 2
   },
   "file_extension": ".py",
   "mimetype": "text/x-python",
   "name": "python",
   "nbconvert_exporter": "python",
   "pygments_lexer": "ipython2",
   "version": "2.7.6"
  }
 },
 "nbformat": 4,
 "nbformat_minor": 0
}