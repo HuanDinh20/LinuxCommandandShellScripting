{
 "cells": [
  {
   "cell_type": "markdown",
   "source": [
    "# Installing Software and Updates\n",
    "# Objectives\n",
    "1. Describe packages and package managers\n",
    "2. Differentiate between package for deb- abd RPM-based distros\n",
    "3. Use package manager to install updates\n",
    "4. Use package manager to install software\n",
    "\n",
    "\n",
    "<img src=\"img.png\" width=800>"
   ],
   "metadata": {
    "collapsed": false,
    "pycharm": {
     "name": "#%% md\n"
    }
   }
  },
  {
   "cell_type": "markdown",
   "source": [
    "# Packages and package managers\n",
    "1. Both software updates and software installation files for Linux operating systems are distributed in files known as packages.\n",
    "2. These packages are archive files containing the required components for either installing new software or updating existing software.\n",
    "3. Use package managers to manage the download and installation of packages\n",
    "4. Different Linux distros provide different package managers\n",
    "5. some are GUI-based and some are command line tools\n",
    "<img src=\"img_1.png\" width=800>"
   ],
   "metadata": {
    "collapsed": false,
    "pycharm": {
     "name": "#%% md\n"
    }
   }
  },
  {
   "cell_type": "markdown",
   "source": [
    "# Deb and RPM packages\n",
    "1. Deb and RPM packages are used by package managers in Linux operating systems. They are distinct file types containing software or updates for different Linux operating systems.\n",
    "2. .deb files are used for Debian-based distributions such as Debian, Ubuntu, and Mint. Deb stands for Debian.\n",
    "3. .rpm files are used for Red Hat-based distributions such as CentOS/RHEL,\n",
    "4. Fedora, and openSUSE. RPM stands for Red Hat Package Manager. Deb and RPM formats are equivalent, so the contents of the file can be used on other types of Linux OSs.\n",
    "<img src=\"img_2.png\" width=800>\n",
    "\n",
    "5. can convert it using the alien tool.\n",
    "* `alien <package-name>.rpm`: convert RMB to DEB\n",
    "* `alien -r <package-name>.deb`: convert DEB to RPM\n",
    "<img src=\"img_3.png\" width=800>"
   ],
   "metadata": {
    "collapsed": false,
    "pycharm": {
     "name": "#%% md\n"
    }
   }
  },
  {
   "cell_type": "markdown",
   "source": [
    "# Package Manager\n",
    "Package managers provide several benefits:\n",
    "1. They can automatically resolve dependencies between packages\n",
    "2. They can notify you when updates are available\n",
    "3. GUI-based package managers can automatically check for security and software updates on a regular basis\n",
    "4. And they can automatically install updates or let you select and install just the ones you want\n",
    "5. GUI-based Linux distro package managers include **PackageKit** and **Update Manager**.\n",
    "\n",
    "<img src=\"img_4.png\" width=800>"
   ],
   "metadata": {
    "collapsed": false,
    "pycharm": {
     "name": "#%% md\n"
    }
   }
  },
  {
   "cell_type": "markdown",
   "source": [
    "# Updating deb-based Linux\n",
    "## GUI Tools\n",
    "Update Manager is a GUI tool for updating deb-based Linux systems.\n",
    "By default, Update Manager checks for software updates daily, and automatically downloads and installs any security updates daily.\n",
    "\n",
    "All other updates are displayed weekly.\n",
    "You can also manually check for updates at any time.\n",
    "<img src=\"img_5.png\" width=800>\n",
    "\n",
    "Update Manager will notify you when software updates are available:\n",
    "\n",
    "\n",
    "Select the updates you want to install Click ‘Install Updates’ If prompted, enter your user password, and click OK. And Update Manager installs the updates in the background while you continue working.\n",
    "\n",
    "<img src=\"img_6.png\" width=800>"
   ],
   "metadata": {
    "collapsed": false,
    "pycharm": {
     "name": "#%% md\n"
    }
   }
  },
  {
   "cell_type": "markdown",
   "source": [
    "## apt\n",
    "\n",
    "apt is a command-line tool for updating deb-based Linux systems.\n",
    "\n",
    "You use the “sudo apt update” command to find available packages for your distro.\n",
    "<img src=\"img_7.png\" width=800>\n",
    "\n",
    "The output of this command lists each available package, builds a dependency tree, and lets you know how many packages can be upgraded.\n",
    "\n",
    "To install the packages, use the “sudo apt upgrade” command. If you want to only install a specific package, you can use “sudo apt upgrade <package-name>”\n",
    "\n",
    "<img src=\"img_8.png\" width=800>"
   ],
   "metadata": {
    "collapsed": false,
    "pycharm": {
     "name": "#%% md\n"
    }
   }
  },
  {
   "cell_type": "markdown",
   "source": [
    "# Updating RBM-based Linux\n",
    "## GUI tool: PackageKit\n",
    "PackageKit is a GUI tool for updating RPM-based Linux systems\n",
    "\n",
    " When updates are available, PackageKit displays a starburst icon in the notification area. It automatically checks for updates at a configurable interval, and you can also manually check for them at any time.\n",
    " <img src=\"img_9.png\" width=800>\n",
    "\n",
    " Clicking the starburst icon opens the Software Update window, which lists all available software updates: Select the updates you want to install and then click Install Updates. If requested, enter your user password, and click OK And PackageKit installs the updates in the background while you continue working\n",
    " <img src=\"img_10.png\" width=800>\n",
    "\n",
    "## yum\n",
    "yum is a command-line tool for updating RPM-based systems.\n",
    "yum stands for Yellowdog Updater, Modified\n",
    "\n",
    "<img src=\"img_11.png\" width=800>\n",
    "\n",
    "To update all packages in your system, type \"sudo yum update\" After you enter your password, Yum fetches all available package updates. And then it displays a summary of the updates and asks you to confirm the download. If confirmed, yum downloads all the package updates, and updates the packages on your system.\n",
    "\n",
    " And when finished, it displays the success message \"Complete!\" You can also use command line tools to install new software.\n",
    "\n",
    "# Install Software\n",
    "<img src=\"img_12.png\" width=800>\n",
    "You can also use command line tools to install new software. Use the apt command with the install switch to install a package on a deb-based system. And use the yum command with the install switch to install software on an RPM-based system. Many software applications use package managers, such as the popular *pip* or *conda* packages, for managing Python environments.\n",
    "\n",
    "<img src=\"img_13.png\" width=800>"
   ],
   "metadata": {
    "collapsed": false,
    "pycharm": {
     "name": "#%% md\n"
    }
   }
  },
  {
   "cell_type": "markdown",
   "source": [
    "For example, assuming you already have a Python environment and the relevant pip package, you can easily install the popular “pandas” library used for data wrangling in Python. Enter “pip install pandas” to instruct the pip package manager to: Search for the latest pandas package, Download the pandas package, Check for dependencies and update as required, And install the pandas package. When the installation is complete, the package manager displays the new software version number.\n",
    "# Summary\n",
    "\n",
    "<img src=\"img_14.png\" width=800>"
   ],
   "metadata": {
    "collapsed": false,
    "pycharm": {
     "name": "#%% md\n"
    }
   }
  },
  {
   "cell_type": "code",
   "execution_count": null,
   "outputs": [],
   "source": [],
   "metadata": {
    "collapsed": false,
    "pycharm": {
     "name": "#%%\n"
    }
   }
  }
 ],
 "metadata": {
  "kernelspec": {
   "display_name": "Python 3",
   "language": "python",
   "name": "python3"
  },
  "language_info": {
   "codemirror_mode": {
    "name": "ipython",
    "version": 2
   },
   "file_extension": ".py",
   "mimetype": "text/x-python",
   "name": "python",
   "nbconvert_exporter": "python",
   "pygments_lexer": "ipython2",
   "version": "2.7.6"
  }
 },
 "nbformat": 4,
 "nbformat_minor": 0
}