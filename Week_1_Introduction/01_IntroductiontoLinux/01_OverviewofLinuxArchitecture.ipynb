{
 "cells": [
  {
   "cell_type": "markdown",
   "source": [
    "# Objectives\n",
    "1. List the layers in a Linux system\n",
    "2. Describe the roles of each layers\n",
    "3. Describe the Linux filesystem\n",
    "\n",
    "# Overview\n",
    "Linux system contains 5 Layers:\n",
    "1. User\n",
    "2. Application\n",
    "3. Operating System\n",
    "4. Kernel\n",
    "5. Hardware\n",
    "\n",
    "<img src=\"img_11.png\" width=800>"
   ],
   "metadata": {
    "collapsed": false,
    "pycharm": {
     "name": "#%% md\n"
    }
   }
  },
  {
   "cell_type": "code",
   "execution_count": null,
   "outputs": [],
   "source": [],
   "metadata": {
    "collapsed": false,
    "pycharm": {
     "name": "#%%\n"
    }
   }
  }
 ],
 "metadata": {
  "kernelspec": {
   "display_name": "Python 3",
   "language": "python",
   "name": "python3"
  },
  "language_info": {
   "codemirror_mode": {
    "name": "ipython",
    "version": 2
   },
   "file_extension": ".py",
   "mimetype": "text/x-python",
   "name": "python",
   "nbconvert_exporter": "python",
   "pygments_lexer": "ipython2",
   "version": "2.7.6"
  }
 },
 "nbformat": 4,
 "nbformat_minor": 0
}