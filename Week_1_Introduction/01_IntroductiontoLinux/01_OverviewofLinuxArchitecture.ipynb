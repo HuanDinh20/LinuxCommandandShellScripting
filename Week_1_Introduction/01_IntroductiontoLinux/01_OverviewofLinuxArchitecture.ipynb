{
 "cells": [
  {
   "cell_type": "markdown",
   "source": [
    "# Objectives\n",
    "1. List the layers in a Linux system\n",
    "2. Describe the roles of each layers\n",
    "3. Describe the Linux filesystem\n",
    "\n",
    "# Overview\n",
    "Linux system contains 5 Layers:\n",
    "1. User\n",
    "2. Application\n",
    "3. Operating System\n",
    "4. Kernel\n",
    "5. Hardware\n",
    "\n",
    "<img src=\"img_11.png\" width=800>"
   ],
   "metadata": {
    "collapsed": false,
    "pycharm": {
     "name": "#%% md\n"
    }
   }
  },
  {
   "cell_type": "markdown",
   "source": [
    "1. User is ther  person using linux system.\n",
    "2. Application: User interact with the system via applications. Includes:\n",
    "    * System Deamon\n",
    "    * Shells\n",
    "    * User Apps\n",
    "    * Tools\n",
    "\n",
    "3. OS: The applications communicate with OS to perform Task. The Os is responsible for job that are vital system stability: job scheduling, keeping track of time\n",
    "4. Kernel: All Linux Os are built on top of the Linux Kernel, which perform most vital lower level jobs. The kernel is the core component of the component of the OS. Responsible for: Managing Memory, Processing Security, ...\n",
    "5. Hardware: Include all the electronic devices, such as: processor, memory module, input devices and storage.\n",
    "\n",
    "\n",
    "<img src ='img_12.png' width=800>"
   ],
   "metadata": {
    "collapsed": false,
    "pycharm": {
     "name": "#%% md\n"
    }
   }
  },
  {
   "cell_type": "markdown",
   "source": [
    "## Application\n",
    "Any software to perform tasks:\n",
    "1. System tools: such as compiler\n",
    "2. Programming Languages\n",
    "3. Shells: Special Application which are often part of the Os itself\n",
    "4. User App: Can be anything from game to browser and many more\n",
    "\n",
    "<img src='img_13.png' width=800>"
   ],
   "metadata": {
    "collapsed": false,
    "pycharm": {
     "name": "#%% md\n"
    }
   }
  },
  {
   "cell_type": "markdown",
   "source": [
    "## 3. Operating System\n",
    "Control the jobs and programs vital for healh and stability.\n",
    "\n",
    "**Also: **\n",
    "1. Assign software to users\n",
    "2. Detect errors and perform measure to prevent complete system failures\n",
    "3. Perform File management tasks\n",
    "\n",
    "<img src=\"img_14.png\" width=800>"
   ],
   "metadata": {
    "collapsed": false,
    "pycharm": {
     "name": "#%% md\n"
    }
   }
  },
  {
   "cell_type": "markdown",
   "source": [
    "## 4. Kernel\n",
    "In a linux system, the Os is built on top of a kernel which perform the most vital operations\n",
    "\n",
    "1. Lowest-level software in system and has complete control of the system\n",
    "2. The kernel start as soon as your computer boot and remains in your computer memory while it's running\n",
    "3. Brige between apps and hardware enabling the two to communicate effectively\n",
    "\n",
    "#### The kernel has 4 key jobs:\n",
    "1. Memory management\n",
    "2. Process management\n",
    "3. Device drivers: Managing device drive to proper hardware support.\n",
    "4. System call and Security Assurance\n",
    "\n",
    "<img src='img_15.png' width=800>\n"
   ],
   "metadata": {
    "collapsed": false,
    "pycharm": {
     "name": "#%% md\n"
    }
   }
  },
  {
   "cell_type": "markdown",
   "source": [
    "<img src='img_16.png' width=800>"
   ],
   "metadata": {
    "collapsed": false,
    "pycharm": {
     "name": "#%% md\n"
    }
   }
  },
  {
   "cell_type": "markdown",
   "source": [
    "## Linux File system\n",
    "1. A collection of files on your machine. Include: files needed to run machine, and your own file continuing your work\n",
    "2. Begins at the root (simply by /): the top level of file system\n",
    "3. Tree like structure: the lowest level of the directory and files in the systems\n",
    "4. Assign appropriate access rights to the files and directories\n",
    "\n",
    "<img src='img_17.png' width=800>"
   ],
   "metadata": {
    "collapsed": false,
    "pycharm": {
     "name": "#%% md\n"
    }
   }
  },
  {
   "cell_type": "markdown",
   "source": [
    "The very top of the linux filesystem is the root contain many other directories\n",
    "<img src='img_18.png' width=800>"
   ],
   "metadata": {
    "collapsed": false,
    "pycharm": {
     "name": "#%% md\n"
    }
   }
  },
  {
   "cell_type": "markdown",
   "source": [
    "one of the key directory /bin contains user binary files.\n",
    "Binary files contain the code your machine need to run your programs and execute your commands.\n",
    "It's call the /bin to signify it directly below the root\n",
    "\n",
    "<img src='img_19.png' width=800>"
   ],
   "metadata": {
    "collapsed": false,
    "pycharm": {
     "name": "#%% md\n"
    }
   }
  },
  {
   "cell_type": "markdown",
   "source": [
    "Other directories includes: /usr - contain user programs\n",
    "/home: your personal working directory where you should store all your personal files\n",
    "<img src='img_20.png' width=800>"
   ],
   "metadata": {
    "collapsed": false,
    "pycharm": {
     "name": "#%% md\n"
    }
   }
  },
  {
   "cell_type": "markdown",
   "source": [
    "/boot: Contain system boot files, the instruction vital for system start up\n",
    "<img src='img_21.png' width=800>"
   ],
   "metadata": {
    "collapsed": false,
    "pycharm": {
     "name": "#%% md\n"
    }
   }
  },
  {
   "cell_type": "markdown",
   "source": [
    "/media: contains files related to temporary media such as cd or usb driver, that are connected to the system\n",
    "<img src='img_22.png' width=800>"
   ],
   "metadata": {
    "collapsed": false,
    "pycharm": {
     "name": "#%% md\n"
    }
   }
  },
  {
   "cell_type": "markdown",
   "source": [
    "There are several other directories, but not using in this course\n",
    "\n",
    "<img src='img_23.png' width=800>"
   ],
   "metadata": {
    "collapsed": false,
    "pycharm": {
     "name": "#%% md\n"
    }
   }
  },
  {
   "cell_type": "markdown",
   "source": [
    "<img src='img_24.png' width=800>"
   ],
   "metadata": {
    "collapsed": false,
    "pycharm": {
     "name": "#%% md\n"
    }
   }
  },
  {
   "cell_type": "code",
   "execution_count": null,
   "outputs": [],
   "source": [],
   "metadata": {
    "collapsed": false,
    "pycharm": {
     "name": "#%%\n"
    }
   }
  }
 ],
 "metadata": {
  "kernelspec": {
   "display_name": "Python 3",
   "language": "python",
   "name": "python3"
  },
  "language_info": {
   "codemirror_mode": {
    "name": "ipython",
    "version": 2
   },
   "file_extension": ".py",
   "mimetype": "text/x-python",
   "name": "python",
   "nbconvert_exporter": "python",
   "pygments_lexer": "ipython2",
   "version": "2.7.6"
  }
 },
 "nbformat": 4,
 "nbformat_minor": 0
}