{
 "cells": [
  {
   "cell_type": "markdown",
   "source": [
    "# Linux Terminal Overview\n",
    "## Objectives\n",
    "1. Describe what a linux shell is\n",
    "2. Describe what a Linux terminal is\n",
    "3. Explain how a Linux terminal and shell work together.\n",
    "4. Use a Linux terminal to navigate directories\n",
    "\n",
    "<img src=\"img.png\" width=800>"
   ],
   "metadata": {
    "collapsed": false,
    "pycharm": {
     "name": "#%% md\n"
    }
   }
  },
  {
   "cell_type": "markdown",
   "source": [
    "## Overview of a Linux Shell\n",
    "1. The Shell is an OS-level application that interprets commands:\n",
    "* Moving and copying files\n",
    "* Writing to and reading from files\n",
    "* Extracting and filtering data\n",
    "* Searching for data\n",
    "\n",
    "2. Shells: Bash, Zsh\n",
    "<img src=\"img_1.png\" width=800>\n",
    "## Overview of a Linux Terminal\n",
    "\n",
    "1. An application used to interact with Linux Shell\n",
    "2. Enter commands and receive outputs from them\n",
    "\n",
    "<img src=\"img_2.png\" width=800>\n",
    "\n",
    "## Communicate with Linux systems\n",
    "\n",
    "How are commands run?\n",
    "<img src=\"img_3.png\" width=800>\n",
    "\n",
    "**First**\n",
    "\n",
    "User enter the commands into the terminal\n",
    "<img src=\"img_4.png\" width=800>\n",
    "\n",
    "Which is related to the shell\n",
    "<img src=\"img_5.png\" width=800>\n",
    "\n",
    "The core components and Kernel of the OS translate the commands for the hardware to perform\n",
    "\n",
    "<img src=\"img_6.png\" width=800>\n",
    "\n",
    "When the hardware completed, the kernel read any changes or results,and send them back\n",
    "\n",
    "<img src=\"img_7.png\" width=800>\n",
    "\n",
    "Via the shell to the Terminal for the user information\n",
    "\n",
    "<img src=\"img_8.png\" width=800>"
   ],
   "metadata": {
    "collapsed": false,
    "pycharm": {
     "name": "#%% md\n"
    }
   }
  },
  {
   "cell_type": "markdown",
   "source": [
    "## The Linux Terminal\n",
    "A powerful way to run applications and  interact with your machine\n",
    "\n",
    "The area where you enter commands is called **command line**\n",
    "<img src=\"img_9.png\" width=800>\n",
    "\n",
    "And the cursor or vertical is call command promp\n",
    "<img src='img_10.png' width=800>"
   ],
   "metadata": {
    "collapsed": false,
    "pycharm": {
     "name": "#%% md\n"
    }
   }
  },
  {
   "cell_type": "markdown",
   "source": [
    "<img src=\"img_11.png\" width=800>"
   ],
   "metadata": {
    "collapsed": false,
    "pycharm": {
     "name": "#%% md\n"
    }
   }
  },
  {
   "cell_type": "markdown",
   "source": [
    "You use the cd command that stands for change directory.\n",
    "<img src=\"img_12.png\" width=800>"
   ],
   "metadata": {
    "collapsed": false,
    "pycharm": {
     "name": "#%% md\n"
    }
   }
  },
  {
   "cell_type": "markdown",
   "source": [
    "Enter cd / to go to the root directory\n",
    "\n",
    "<img src=\"img_13.png\" width=800>\n",
    "\n",
    "enter cd bin to move into the bin directory\n",
    "\n",
    "<img src=\"img_14.png\" width=800>\n",
    "\n",
    "run the ls program in the current working directory by entering ./ls Use it to display in the terminal window the names of all files and directories within the current directory.\n",
    "\n",
    "<img src=\"img_15.png\" width=800>\n",
    "\n",
    "Navigate to your home directory using cd ~\n",
    "\n",
    "<img src=\"img_16.png\" width=800>"
   ],
   "metadata": {
    "collapsed": false,
    "pycharm": {
     "name": "#%% md\n"
    }
   }
  },
  {
   "cell_type": "markdown",
   "source": [
    "`cd .. ` to the parent directory\n",
    "<img src=\"img_17.png\" width=800>"
   ],
   "metadata": {
    "collapsed": false,
    "pycharm": {
     "name": "#%% md\n"
    }
   }
  },
  {
   "cell_type": "markdown",
   "source": [
    "enter cd ../.. and then to navigate down\n",
    "\n",
    "<img src=\"img_18.png\" width=800>\n",
    "\n",
    "to back home\n",
    "\n",
    "cd forward 2 directories and then\n",
    "cd ../../other directories\n",
    "\n",
    "<img src=\"img_19.png\" width=800>\n",
    "\n"
   ],
   "metadata": {
    "collapsed": false,
    "pycharm": {
     "name": "#%% md\n"
    }
   }
  },
  {
   "cell_type": "markdown",
   "source": [
    "<img src=\"img_20.png\" width=800>"
   ],
   "metadata": {
    "collapsed": false,
    "pycharm": {
     "name": "#%% md\n"
    }
   }
  },
  {
   "cell_type": "code",
   "execution_count": null,
   "outputs": [],
   "source": [],
   "metadata": {
    "collapsed": false,
    "pycharm": {
     "name": "#%%\n"
    }
   }
  }
 ],
 "metadata": {
  "kernelspec": {
   "display_name": "Python 3",
   "language": "python",
   "name": "python3"
  },
  "language_info": {
   "codemirror_mode": {
    "name": "ipython",
    "version": 2
   },
   "file_extension": ".py",
   "mimetype": "text/x-python",
   "name": "python",
   "nbconvert_exporter": "python",
   "pygments_lexer": "ipython2",
   "version": "2.7.6"
  }
 },
 "nbformat": 4,
 "nbformat_minor": 0
}