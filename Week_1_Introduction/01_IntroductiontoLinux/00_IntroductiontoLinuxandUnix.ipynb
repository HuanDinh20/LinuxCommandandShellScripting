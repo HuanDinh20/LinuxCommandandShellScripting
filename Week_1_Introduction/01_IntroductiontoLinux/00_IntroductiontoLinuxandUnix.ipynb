{
 "cells": [
  {
   "cell_type": "markdown",
   "source": [
    "# Objectives:\n",
    "1. Explain what an Os is\n",
    "2. Describe the origin of Linux and Unix\n",
    "3. List some of the features of Linux and Unix\n",
    "\n",
    "<img src='img.png' width=400 height='75%'>"
   ],
   "metadata": {
    "collapsed": false,
    "pycharm": {
     "name": "#%% md\n"
    }
   }
  },
  {
   "cell_type": "markdown",
   "source": [
    "**Operating System is software that:**\n",
    "1. Manages computer hardware and resources\n",
    "2. Allow interation with hardware to perform useful tasks\n",
    "<img src='img_1.png' width=400>"
   ],
   "metadata": {
    "collapsed": false,
    "pycharm": {
     "name": "#%% md\n"
    }
   }
  },
  {
   "cell_type": "markdown",
   "source": [
    "**What is Unix**\n",
    "1. A family of operating systems\n",
    "2. Popular Unix based Os:\n",
    "    * Oracle solaris\n",
    "    * Apple MacOs\n",
    "    * FreeBSD\n",
    "<img src=\"img_2.png\" width=400 height>"
   ],
   "metadata": {
    "collapsed": false,
    "pycharm": {
     "name": "#%% md\n"
    }
   }
  },
  {
   "cell_type": "markdown",
   "source": [
    "**Unix Beginning**\n",
    "\n",
    "<img src='img_3.png' width=400>"
   ],
   "metadata": {
    "collapsed": false,
    "pycharm": {
     "name": "#%% md\n"
    }
   }
  },
  {
   "cell_type": "markdown",
   "source": [
    "### What is Linux\n",
    "1. Linux is a family of Unix-like OSs\n",
    "2. Originally developed as an effort to create a free, open source Unix Os\n",
    "\n",
    "<img src='img_5.png' width=600>"
   ],
   "metadata": {
    "collapsed": false,
    "pycharm": {
     "name": "#%% md\n"
    }
   }
  },
  {
   "cell_type": "markdown",
   "source": [
    "### Linux Key Features\n",
    "1. Free and open source\n",
    "2. Secure\n",
    "3. Multi-user: simultaneously\n",
    "4. Multitasking: Running multiple job and applications at them same time\n",
    "5. Portability\n",
    "\n",
    "<img src='img_6.png' width=600>"
   ],
   "metadata": {
    "collapsed": false,
    "pycharm": {
     "name": "#%% md\n"
    }
   }
  },
  {
   "cell_type": "markdown",
   "source": [
    "<img src='img_7.png' width=800>"
   ],
   "metadata": {
    "collapsed": false,
    "pycharm": {
     "name": "#%% md\n"
    }
   }
  },
  {
   "cell_type": "markdown",
   "source": [
    "<img src='img_8.png' width=800>"
   ],
   "metadata": {
    "collapsed": false,
    "pycharm": {
     "name": "#%% md\n"
    }
   }
  },
  {
   "cell_type": "markdown",
   "source": [
    "<img src='img_9.png' width=800>"
   ],
   "metadata": {
    "collapsed": false,
    "pycharm": {
     "name": "#%% md\n"
    }
   }
  },
  {
   "cell_type": "markdown",
   "source": [
    "# Summary\n",
    "\n",
    "<img src='img_10.png' width=800>"
   ],
   "metadata": {
    "collapsed": false,
    "pycharm": {
     "name": "#%% md\n"
    }
   }
  },
  {
   "cell_type": "code",
   "execution_count": null,
   "outputs": [],
   "source": [],
   "metadata": {
    "collapsed": false,
    "pycharm": {
     "name": "#%%\n"
    }
   }
  }
 ],
 "metadata": {
  "kernelspec": {
   "display_name": "Python 3",
   "language": "python",
   "name": "python3"
  },
  "language_info": {
   "codemirror_mode": {
    "name": "ipython",
    "version": 2
   },
   "file_extension": ".py",
   "mimetype": "text/x-python",
   "name": "python",
   "nbconvert_exporter": "python",
   "pygments_lexer": "ipython2",
   "version": "2.7.6"
  }
 },
 "nbformat": 4,
 "nbformat_minor": 0
}