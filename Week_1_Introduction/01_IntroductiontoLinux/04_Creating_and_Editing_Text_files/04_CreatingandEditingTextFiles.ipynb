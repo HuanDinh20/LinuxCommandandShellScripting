{
 "cells": [
  {
   "cell_type": "markdown",
   "source": [
    "<img src='img.png' width=600>"
   ],
   "metadata": {
    "collapsed": false,
    "pycharm": {
     "name": "#%% md\n"
    }
   }
  },
  {
   "cell_type": "markdown",
   "source": [
    "#  Popular text editors\n",
    "1. Command-line test editors:\n",
    "* GNU nano: a small, friendly and modeless text editor\n",
    "* vi: a traditional command-line editor originally created for Unix\n",
    "* Vim: a powerful mode-based command line-editor based on vi\n",
    "\n",
    "2. GUI-based text editors:\n",
    "* gedit: the default editor from the GNOME environment\n",
    "3. Command-line or GUI:\n",
    "* emacs: is another text editor that is one of the oldest free, open source projects still under development.You can use emacs in GUI mode or within a command line\n",
    "\n",
    "<img src='img_1.png' width=600>"
   ],
   "metadata": {
    "collapsed": false,
    "pycharm": {
     "name": "#%% md\n"
    }
   }
  },
  {
   "cell_type": "markdown",
   "source": [
    "# Features of Gedit\n",
    "<img src='img_3.png' width=600>\n",
    "\n",
    "A General-purpose text editor, easy to use with a clean and simple GUI:\n",
    "\n",
    "1. Integrated file browser\n",
    "2. Undo and redo\n",
    "3. Search and replace\n",
    "4. Extensibility\n",
    "5. Syntax color coding\n",
    "<img src='img_2.png' width=600>\n"
   ],
   "metadata": {
    "collapsed": false,
    "pycharm": {
     "name": "#%% md\n"
    }
   }
  },
  {
   "cell_type": "markdown",
   "source": [
    "# Features of GNU nano\n",
    "<img src=\"img_4.png\" width=600>\n",
    "\n",
    "To open a text file in GNU nano from the command prompt, type:\n",
    "`nano <filename>`\n",
    "\n",
    "<img src='img_5.png' width=600>\n",
    "\n"
   ],
   "metadata": {
    "collapsed": false,
    "pycharm": {
     "name": "#%% md\n"
    }
   }
  },
  {
   "cell_type": "markdown",
   "source": [
    "The main area displays the text of the open file\n",
    "<img src=\"img_6.png\" width=600>"
   ],
   "metadata": {
    "collapsed": false,
    "pycharm": {
     "name": "#%% md\n"
    }
   }
  },
  {
   "cell_type": "markdown",
   "source": [
    "The cursor is currently located at the beginning of the file, but you can navigate within the text using the arrow keys, page up and down keys, or ‘home’ and ‘end’ keys\n",
    "<img src='img_7.png' width=600>\n",
    "\n",
    " At the bottom of the nano window there is a list of commands that you can use in the editor. To access the commands, simultaneously press ‘control’ and the letter for the command\n",
    " <img src=\"img_8.png\" width=600>\n",
    "\n",
    "To search for a text string, you can press ‘control W’ to use the ‘Where Is’ option\n",
    "<img src=\"img_9.png\" width=600>"
   ],
   "metadata": {
    "collapsed": false,
    "pycharm": {
     "name": "#%% md\n"
    }
   }
  },
  {
   "cell_type": "markdown",
   "source": [
    "# Vim Features\n",
    "\n",
    "Vim is a traditional and very powerful command-line editor. It takes some time to get accustomed to how it works, but with some practice your fingers will develop the muscle memory to accomplish all of your text editing tasks at speed.\n",
    "\n",
    "Entering vim at the command prompt opens the vim app You can also specify a filename to edit a new or existing file\n",
    "<img src=\"img_10.png\" width=600>\n",
    "\n",
    "*Vim has two basic modes:*\n",
    "1. Insert mode, where you enter text\n",
    "2. Command mode, where you do everything else\n",
    "\n",
    "**Insert Mode**\n",
    "<img src=\"img_11.png\" width=600>"
   ],
   "metadata": {
    "collapsed": false,
    "pycharm": {
     "name": "#%% md\n"
    }
   }
  },
  {
   "cell_type": "markdown",
   "source": [
    "<img src=\"img_12.png\" width=800 >"
   ],
   "metadata": {
    "collapsed": false,
    "pycharm": {
     "name": "#%% md\n"
    }
   }
  },
  {
   "cell_type": "markdown",
   "source": [
    "<img src=\"img_13.png\" width=600>"
   ],
   "metadata": {
    "collapsed": false,
    "pycharm": {
     "name": "#%% md\n"
    }
   }
  },
  {
   "cell_type": "code",
   "execution_count": null,
   "outputs": [],
   "source": [],
   "metadata": {
    "collapsed": false,
    "pycharm": {
     "name": "#%%\n"
    }
   }
  }
 ],
 "metadata": {
  "kernelspec": {
   "display_name": "Python 3",
   "language": "python",
   "name": "python3"
  },
  "language_info": {
   "codemirror_mode": {
    "name": "ipython",
    "version": 2
   },
   "file_extension": ".py",
   "mimetype": "text/x-python",
   "name": "python",
   "nbconvert_exporter": "python",
   "pygments_lexer": "ipython2",
   "version": "2.7.6"
  }
 },
 "nbformat": 4,
 "nbformat_minor": 0
}