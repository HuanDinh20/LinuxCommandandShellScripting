{
 "cells": [
  {
   "cell_type": "markdown",
   "source": [
    "# Summary\n",
    "#### A shell script is an executable text file that begins with a ‘shebang’ interpreter directive\n",
    "#### Shell scripts are used to run commands and programs and can interpret command line arguments\n",
    "#### Filters are shell commands, and the pipe operator allows you to chain filter commands\n",
    "#### Shell variables can be assigned values with ‘=’ and listed using ‘set’\n",
    "#### Environment variables are shell variables with extended scope; create with ‘export,’ list with ‘env’\n",
    "#### Jobs can be scheduled to run periodically at selected times\n",
    "#### ‘m h dom mon dow command’ is the cron job syntax\n",
    "#### Command substitution is used to replace a command with its output\n",
    "#### The Bash shell-scripting feature ‘concurrent mode’ allows commands to run in parallel"
   ],
   "metadata": {
    "collapsed": false,
    "pycharm": {
     "name": "#%% md\n"
    }
   }
  },
  {
   "cell_type": "code",
   "execution_count": null,
   "outputs": [],
   "source": [],
   "metadata": {
    "collapsed": false,
    "pycharm": {
     "name": "#%%\n"
    }
   }
  }
 ],
 "metadata": {
  "kernelspec": {
   "display_name": "Python 3",
   "language": "python",
   "name": "python3"
  },
  "language_info": {
   "codemirror_mode": {
    "name": "ipython",
    "version": 2
   },
   "file_extension": ".py",
   "mimetype": "text/x-python",
   "name": "python",
   "nbconvert_exporter": "python",
   "pygments_lexer": "ipython2",
   "version": "2.7.6"
  }
 },
 "nbformat": 4,
 "nbformat_minor": 0
}