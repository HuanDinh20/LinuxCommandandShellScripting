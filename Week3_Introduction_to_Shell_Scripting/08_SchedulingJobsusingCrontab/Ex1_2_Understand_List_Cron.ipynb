{
 "cells": [
  {
   "cell_type": "markdown",
   "source": [
    "# Exercise 1 - Understand crontab file syntax\n",
    "1. Cron is a system daemon used to execute desired tasks in the background at designated times.\n",
    "2. A crontab file is a simple text file containing a list of commands meant to be run at specified times. It is edited using the crontab command.\n",
    "3. Each line in crontab file has five time-and-date fields, followed by a command, followed by a newline character ('\\n'). The fields are separated by spaces.\n",
    "4. The five time-and-date fields cannot contain spaces. The five time-and-date fields and their allowed values are as follows:\n",
    "\n",
    "minute (0-59)\n",
    "hour(0-23, 0 = midnight)\n",
    "day (1-31)\n",
    "month (1-12)\n",
    "weekday (0-6, 0 = Sunday)"
   ],
   "metadata": {
    "collapsed": false,
    "pycharm": {
     "name": "#%% md\n"
    }
   }
  },
  {
   "cell_type": "markdown",
   "source": [
    "## Exercise 2 - List cron jobs\n",
    "*crontab -l*"
   ],
   "metadata": {
    "collapsed": false,
    "pycharm": {
     "name": "#%% md\n"
    }
   }
  },
  {
   "cell_type": "markdown",
   "source": [
    "<img src=\"img.png\"/>"
   ],
   "metadata": {
    "collapsed": false,
    "pycharm": {
     "name": "#%% md\n"
    }
   }
  },
  {
   "cell_type": "code",
   "execution_count": null,
   "outputs": [],
   "source": [],
   "metadata": {
    "collapsed": false,
    "pycharm": {
     "name": "#%%\n"
    }
   }
  }
 ],
 "metadata": {
  "kernelspec": {
   "display_name": "Python 3",
   "language": "python",
   "name": "python3"
  },
  "language_info": {
   "codemirror_mode": {
    "name": "ipython",
    "version": 2
   },
   "file_extension": ".py",
   "mimetype": "text/x-python",
   "name": "python",
   "nbconvert_exporter": "python",
   "pygments_lexer": "ipython2",
   "version": "2.7.6"
  }
 },
 "nbformat": 4,
 "nbformat_minor": 0
}