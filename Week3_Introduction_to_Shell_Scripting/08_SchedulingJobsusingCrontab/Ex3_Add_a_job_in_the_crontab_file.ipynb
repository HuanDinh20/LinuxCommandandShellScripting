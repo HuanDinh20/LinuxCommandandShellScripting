{
 "cells": [
  {
   "cell_type": "markdown",
   "source": [
    "#  Add a job in the crontab file\n",
    "#### 3.1. Add a job to crontab.\n",
    "**crontab -e**: This will create a new crontab file for you(if you do not have one already) and now you are ready to add a new cron job.\n",
    "\n",
    "Your crontab file will be opened in an editor as shown in the image below.\n",
    "\n",
    "<img src=\"img_1.png\">"
   ],
   "metadata": {
    "collapsed": false,
    "pycharm": {
     "name": "#%% md\n"
    }
   }
  },
  {
   "cell_type": "markdown",
   "source": [
    "Add the below line at the end of the crontab file.\n"
   ],
   "metadata": {
    "collapsed": false,
    "pycharm": {
     "name": "#%% md\n"
    }
   }
  },
  {
   "cell_type": "markdown",
   "source": [
    "<img src=\"img_2.png\"/>"
   ],
   "metadata": {
    "collapsed": false,
    "pycharm": {
     "name": "#%% md\n"
    }
   }
  },
  {
   "cell_type": "markdown",
   "source": [
    "The above job specifies that the echo command should run when the minute is 0 and the hours is 21. It effectively means the job runs at 9.00 p.m every day.\n",
    "\n",
    "The output of the command should be sent to a file /tmp/echo.txt.\n",
    "\n",
    "Press Control + X to save the changes.\n",
    "\n",
    "Press 'Y' to confirm.\n",
    "\n",
    "Press Enter to come out of the editor.\n",
    "\n",
    "Check if the job is added to the crontab by running **crontab -e**"
   ],
   "metadata": {
    "collapsed": false,
    "pycharm": {
     "name": "#%% md\n"
    }
   }
  },
  {
   "cell_type": "markdown",
   "source": [
    "#### 3.2. Schedule a shell script.\n",
    "Let us create a simple shell script that prints the current time and the current disk usage statistics.\n"
   ],
   "metadata": {
    "collapsed": false,
    "pycharm": {
     "name": "#%% md\n"
    }
   }
  },
  {
   "cell_type": "markdown",
   "source": [
    "<img src=\"img_3.png\">"
   ],
   "metadata": {
    "collapsed": false,
    "pycharm": {
     "name": "#%% md\n"
    }
   }
  },
  {
   "cell_type": "code",
   "execution_count": null,
   "outputs": [],
   "source": [],
   "metadata": {
    "collapsed": false,
    "pycharm": {
     "name": "#%%\n"
    }
   }
  }
 ],
 "metadata": {
  "kernelspec": {
   "display_name": "Python 3",
   "language": "python",
   "name": "python3"
  },
  "language_info": {
   "codemirror_mode": {
    "name": "ipython",
    "version": 2
   },
   "file_extension": ".py",
   "mimetype": "text/x-python",
   "name": "python",
   "nbconvert_exporter": "python",
   "pygments_lexer": "ipython2",
   "version": "2.7.6"
  }
 },
 "nbformat": 4,
 "nbformat_minor": 0
}