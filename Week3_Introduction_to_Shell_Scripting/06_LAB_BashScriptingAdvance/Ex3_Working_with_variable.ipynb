{
 "cells": [
  {
   "cell_type": "markdown",
   "source": [
    "# Variables\n",
    "Variables help store data for the script. The data may be in the form of a number or a character string.You may create, remove or display the variables.\n",
    "\n",
    "#### 3.1 List the variables already defined in the shell.\n",
    "**set**: You should see a lot of variables in the output.\n",
    "#### 3.2 Create new variables\n",
    "**variable_name=value.**\n",
    "#### 3.3 Create an environment variable\n",
    "**export variable_name**\n",
    "Environment variables are just like any other variable. They differ in the fact that they are copied to any child process created from the shell.\n",
    "#### 3.4 List environment variables\n",
    "**env**: display all environment variables\n",
    "#### 3.5 Display the value of a variable\n",
    "To display or interpolate the value of a variable in a command, we use the feature of shell called variable substitution.\n",
    "\n",
    "It is done by preceding the name of the variable with a $ (dollar) symbol.\n",
    "`echo \"Current account balance is $balance\"`\n",
    "#### 3.6 Remove a variable\n",
    "To remove variables, use **unset** command.\n",
    "\n",
    "<img src=\"img_2.png\\\"/>"
   ],
   "metadata": {
    "collapsed": false,
    "pycharm": {
     "name": "#%% md\n"
    }
   }
  },
  {
   "cell_type": "code",
   "execution_count": null,
   "outputs": [],
   "source": [],
   "metadata": {
    "collapsed": false,
    "pycharm": {
     "name": "#%%\n"
    }
   }
  }
 ],
 "metadata": {
  "kernelspec": {
   "display_name": "Python 3",
   "language": "python",
   "name": "python3"
  },
  "language_info": {
   "codemirror_mode": {
    "name": "ipython",
    "version": 2
   },
   "file_extension": ".py",
   "mimetype": "text/x-python",
   "name": "python",
   "nbconvert_exporter": "python",
   "pygments_lexer": "ipython2",
   "version": "2.7.6"
  }
 },
 "nbformat": 4,
 "nbformat_minor": 0
}