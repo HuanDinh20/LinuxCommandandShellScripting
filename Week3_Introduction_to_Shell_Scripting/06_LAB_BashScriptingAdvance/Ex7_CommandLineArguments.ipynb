{
 "cells": [
  {
   "cell_type": "markdown",
   "source": [
    "# Command line arguments\n",
    "Command line arguments are a very convenient way to pass inputs to a script.\n",
    "Command line arguments can be accessed inside the script as $1, $2 and so on. $1 is the first arugment, $2 is the second argument."
   ],
   "metadata": {
    "collapsed": false,
    "pycharm": {
     "name": "#%% md\n"
    }
   }
  },
  {
   "cell_type": "markdown",
   "source": [
    "#### 7.1 Create a simple bash script that handles two arguments.\n",
    "Save the below code as wish.sh"
   ],
   "metadata": {
    "collapsed": false,
    "pycharm": {
     "name": "#%% md\n"
    }
   }
  },
  {
   "cell_type": "raw",
   "source": [
    "#! /bin/bash\n",
    "\n",
    "echo \"Hi $1 $2\"\n",
    "\n",
    "#$1 is the first argument passed to the script\n",
    "\n",
    "echo \"$1 is your firstname\"\n",
    "\n",
    "#$2 is the second argument passed to the script\n",
    "echo \"$2 is your lastname\""
   ],
   "metadata": {
    "collapsed": false,
    "pycharm": {
     "name": "#%% raw\n"
    }
   }
  },
  {
   "cell_type": "markdown",
   "source": [
    "Make the script executable to everyone.\n",
    "`chmod +x wish.sh`\n",
    "`./wish.sh Ramesh Sannareddy`"
   ],
   "metadata": {
    "collapsed": false,
    "pycharm": {
     "name": "#%% md\n"
    }
   }
  },
  {
   "cell_type": "markdown",
   "source": [
    "<img src=\"img_10.png\">"
   ],
   "metadata": {
    "collapsed": false,
    "pycharm": {
     "name": "#%% md\n"
    }
   }
  },
  {
   "cell_type": "markdown",
   "source": [
    "#### 7.2 Find the total disk space usage.\n",
    "Let us create a bash script named dirinfo.sh that takes the directory name as an argument and prints the total number of the the directories and the number of files in it.\n",
    "\n",
    "We will make use of the find command with -type option which will list only files or directories depending upon the usage of d switch or f switch respectively.\n",
    "\n",
    "The command wc -l will count the lines."
   ],
   "metadata": {
    "collapsed": false,
    "pycharm": {
     "name": "#%% md\n"
    }
   }
  },
  {
   "cell_type": "markdown",
   "source": [
    "<img src=\"img_11.png\">"
   ],
   "metadata": {
    "collapsed": false,
    "pycharm": {
     "name": "#%% md\n"
    }
   }
  },
  {
   "cell_type": "markdown",
   "source": [],
   "metadata": {
    "collapsed": false,
    "pycharm": {
     "name": "#%% md\n"
    }
   }
  }
 ],
 "metadata": {
  "kernelspec": {
   "display_name": "Python 3",
   "language": "python",
   "name": "python3"
  },
  "language_info": {
   "codemirror_mode": {
    "name": "ipython",
    "version": 2
   },
   "file_extension": ".py",
   "mimetype": "text/x-python",
   "name": "python",
   "nbconvert_exporter": "python",
   "pygments_lexer": "ipython2",
   "version": "2.7.6"
  }
 },
 "nbformat": 4,
 "nbformat_minor": 0
}