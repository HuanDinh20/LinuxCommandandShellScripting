{
 "cells": [
  {
   "cell_type": "markdown",
   "source": [
    "# Practice exercises\n",
    "#### 1. Create a variable called 'color' and store the string 'light green' in it.\n",
    "`color=\"light green\"`\n",
    "#### 2. Display the list of all the files whose name starts with 'b' and ends with '.log' in the directory /var/log.\n",
    "`ls /var/bin/b*.log`\n",
    "#### 3. Display the count of all files whose name starts with 'c' in the /bin directory.\n",
    "\n",
    "`find /bin/c* -type f| wc -l`\n",
    "#### 4.Display the value of variable 'color'.\n",
    "`echo $color`\n",
    "#### 5. Store the value of the variable 'color' in a file 'color.txt'\n",
    "`echo $color > color.txt`\n",
    "#### 6. Write a shell script named latest_warnings.sh that prints the latest 5 warnings from the /var/log/bootstrap.log file.\n",
    "tail -5 var/log/bootstrap.log > latest_warnings.sh"
   ],
   "metadata": {
    "collapsed": false,
    "pycharm": {
     "name": "#%% md\n"
    }
   }
  },
  {
   "cell_type": "markdown",
   "source": [
    "<img src=\"img_12.png\"/>"
   ],
   "metadata": {
    "collapsed": false,
    "pycharm": {
     "name": "#%% md\n"
    }
   }
  },
  {
   "cell_type": "code",
   "execution_count": null,
   "outputs": [],
   "source": [],
   "metadata": {
    "collapsed": false,
    "pycharm": {
     "name": "#%%\n"
    }
   }
  }
 ],
 "metadata": {
  "kernelspec": {
   "display_name": "Python 3",
   "language": "python",
   "name": "python3"
  },
  "language_info": {
   "codemirror_mode": {
    "name": "ipython",
    "version": 2
   },
   "file_extension": ".py",
   "mimetype": "text/x-python",
   "name": "python",
   "nbconvert_exporter": "python",
   "pygments_lexer": "ipython2",
   "version": "2.7.6"
  }
 },
 "nbformat": 4,
 "nbformat_minor": 0
}