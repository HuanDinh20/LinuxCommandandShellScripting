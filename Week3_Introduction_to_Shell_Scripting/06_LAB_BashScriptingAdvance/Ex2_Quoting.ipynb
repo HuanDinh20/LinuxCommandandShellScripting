{
 "cells": [
  {
   "cell_type": "markdown",
   "source": [
    "# Quoting\n",
    "If any special character has to be treated without their special meaning, we need to quote them.\n",
    "#### 2.1 Quoting using backslash (\\)\n",
    "Backslash removes the meaning of the special character that follows it.\n",
    "#### 2.2 Quoting using single quote (')\n",
    "A pair of single quotes removes special meanings of all special characters within them (except another single quote).\n",
    "#### 2.3 Quoting using double quote (\")\n",
    "A pair of double quotes removes special meanings of all special characters within them except another double quote, variable substitution and command substitution..\n",
    "\n",
    "<img src=\"img_1.png\"/>"
   ],
   "metadata": {
    "collapsed": false,
    "pycharm": {
     "name": "#%% md\n"
    }
   }
  },
  {
   "cell_type": "code",
   "execution_count": null,
   "outputs": [],
   "source": [],
   "metadata": {
    "collapsed": false,
    "pycharm": {
     "name": "#%%\n"
    }
   }
  }
 ],
 "metadata": {
  "kernelspec": {
   "display_name": "Python 3",
   "language": "python",
   "name": "python3"
  },
  "language_info": {
   "codemirror_mode": {
    "name": "ipython",
    "version": 2
   },
   "file_extension": ".py",
   "mimetype": "text/x-python",
   "name": "python",
   "nbconvert_exporter": "python",
   "pygments_lexer": "ipython2",
   "version": "2.7.6"
  }
 },
 "nbformat": 4,
 "nbformat_minor": 0
}