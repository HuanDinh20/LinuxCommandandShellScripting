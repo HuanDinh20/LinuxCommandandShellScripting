{
 "cells": [
  {
   "cell_type": "markdown",
   "source": [
    "# I/O Redirection\n",
    "Linux sends the output of a command to standard output (display) and any error generated is sent to standard error (display).\n",
    "Similarly, the input required by a command is received from standard input (keyboard).\n",
    "\n",
    "If we need to change these defaults, shell provides a feature called I/O Redirection.\n",
    "\n",
    "This is achieved using the following special characters.\n",
    "* <   -- Input Redirection\n",
    "* \\>  -- Output Redirection\n",
    "* \\>> -- Append Output\n",
    "* 2>  -- Error Redirection"
   ],
   "metadata": {
    "collapsed": false,
    "pycharm": {
     "name": "#%% md\n"
    }
   }
  },
  {
   "cell_type": "markdown",
   "source": [
    "#### 5.1 Save the network configuration details into a file called output.text\n",
    "**ifconfig > output.text**"
   ],
   "metadata": {
    "collapsed": false,
    "pycharm": {
     "name": "#%% md\n"
    }
   }
  },
  {
   "cell_type": "markdown",
   "source": [
    "<img src=\"img_5.png\"/>"
   ],
   "metadata": {
    "collapsed": false,
    "pycharm": {
     "name": "#%% md\n"
    }
   }
  },
  {
   "cell_type": "markdown",
   "source": [
    "#### 5.2 Save the output of date command into the file 'output.txt'.\n",
    "**date > output.txt**\n",
    "<img src=\"img_5.png\"/>"
   ],
   "metadata": {
    "collapsed": false,
    "pycharm": {
     "name": "#%% md\n"
    }
   }
  },
  {
   "cell_type": "markdown",
   "source": [
    "Did you notice, that previous contents of output.txt were overwritten?\n",
    "\n",
    "When you redirect using **>** the contents of the target file are overwritten."
   ],
   "metadata": {
    "collapsed": false,
    "pycharm": {
     "name": "#%% md\n"
    }
   }
  },
  {
   "cell_type": "markdown",
   "source": [
    "#### 5.3 Append output to a file\n",
    "Now, we will try the following sequence, where we use '>>' instead of '>'.\n",
    "<img src=\"img_7.png\"/>"
   ],
   "metadata": {
    "collapsed": false,
    "pycharm": {
     "name": "#%% md\n"
    }
   }
  },
  {
   "cell_type": "markdown",
   "source": [
    "#### 5.4 Display the contents of file 'newoutput.txt' in all uppercase.\n",
    "You can use the command tr for this translation.\n",
    "\n",
    "tr command does not accept file names as arguments. But it accepts standard input."
   ],
   "metadata": {
    "collapsed": false,
    "pycharm": {
     "name": "#%% md\n"
    }
   }
  },
  {
   "cell_type": "markdown",
   "source": [
    "<img src=\"img_8.png\"/>"
   ],
   "metadata": {
    "collapsed": false,
    "pycharm": {
     "name": "#%% md\n"
    }
   }
  },
  {
   "cell_type": "code",
   "execution_count": null,
   "outputs": [],
   "source": [],
   "metadata": {
    "collapsed": false,
    "pycharm": {
     "name": "#%%\n"
    }
   }
  }
 ],
 "metadata": {
  "kernelspec": {
   "display_name": "Python 3",
   "language": "python",
   "name": "python3"
  },
  "language_info": {
   "codemirror_mode": {
    "name": "ipython",
    "version": 2
   },
   "file_extension": ".py",
   "mimetype": "text/x-python",
   "name": "python",
   "nbconvert_exporter": "python",
   "pygments_lexer": "ipython2",
   "version": "2.7.6"
  }
 },
 "nbformat": 4,
 "nbformat_minor": 0
}