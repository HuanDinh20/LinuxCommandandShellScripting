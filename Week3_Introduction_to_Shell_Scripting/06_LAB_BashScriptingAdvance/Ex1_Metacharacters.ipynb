{
 "cells": [
  {
   "cell_type": "markdown",
   "source": [
    "# Metacharacters\n",
    "There are several characters which have special meanings to the shell.\n",
    "#### 1.1 '#' - For adding comments\n",
    "Lines beginning with a # (with the exception of #!) are comments and will not be executed.\n",
    "#### 1.2 ';' - Command seperator\n",
    "Multiple commands can be seperated from each other using a ; when used in a single command line.\n",
    "#### 1.3 * - wildcard used in filename expansion\n",
    "The '*' character matches any number of any character in filename patterns. By itself, it matches every filename in a given directory.\n",
    "#### 1.4 '?' - wildcard used in filename expansion\n",
    "The '?' character represents a single character in a filename pattern.\n",
    "\n",
    "<img src=\"img.png\"/>"
   ],
   "metadata": {
    "collapsed": false,
    "pycharm": {
     "name": "#%% md\n"
    }
   }
  },
  {
   "cell_type": "code",
   "execution_count": null,
   "outputs": [],
   "source": [],
   "metadata": {
    "collapsed": false,
    "pycharm": {
     "name": "#%%\n"
    }
   }
  }
 ],
 "metadata": {
  "kernelspec": {
   "display_name": "Python 3",
   "language": "python",
   "name": "python3"
  },
  "language_info": {
   "codemirror_mode": {
    "name": "ipython",
    "version": 2
   },
   "file_extension": ".py",
   "mimetype": "text/x-python",
   "name": "python",
   "nbconvert_exporter": "python",
   "pygments_lexer": "ipython2",
   "version": "2.7.6"
  }
 },
 "nbformat": 4,
 "nbformat_minor": 0
}