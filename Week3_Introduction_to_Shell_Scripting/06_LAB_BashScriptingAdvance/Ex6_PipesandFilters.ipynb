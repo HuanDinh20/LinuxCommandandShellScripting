{
 "cells": [
  {
   "cell_type": "markdown",
   "source": [
    "# Pipes and Filters\n",
    "Command pipeline is a feature of the shell, that helps us to combine different unrelated commands in such a way that one command's output is sent directly as input to the next command. This way, what is not possible with a single command can be made possible by connecting multiple commands.\n",
    "\n",
    "Only filter commands can be used in this manner.\n",
    "\n",
    "A filter command is a command which can accept input from standard input and send output to standard output."
   ],
   "metadata": {
    "collapsed": false,
    "pycharm": {
     "name": "#%% md\n"
    }
   }
  },
  {
   "cell_type": "markdown",
   "source": [
    "#### 6.1 Count the total number of files in your current directory.\n",
    "Since the ls command doesn't provide an option to get a count, let us get help from wc command.\n",
    "\n",
    "`ls | wc -l`"
   ],
   "metadata": {
    "collapsed": false,
    "pycharm": {
     "name": "#%% md\n"
    }
   }
  },
  {
   "cell_type": "markdown",
   "source": [
    "#### 6.2 Find the total disk space usage.\n",
    "df -h command gives disk usage for all individual filesystems including the total usage across the server under the head overlay.\n",
    "\n",
    "You can get the overall disk usage if you grep for overlay from the output of df -h\n",
    "#### 6.3 List five largest files.\n",
    "The -S option of ls command sorts the files from largest to smallest.\n",
    "\n",
    "We will send this sorted list through a pipe to the head command.\n",
    "\n",
    "<img src=\"img_9.png\"/>"
   ],
   "metadata": {
    "collapsed": false,
    "pycharm": {
     "name": "#%% md\n"
    }
   }
  },
  {
   "cell_type": "code",
   "execution_count": null,
   "outputs": [],
   "source": [],
   "metadata": {
    "collapsed": false,
    "pycharm": {
     "name": "#%%\n"
    }
   }
  }
 ],
 "metadata": {
  "kernelspec": {
   "display_name": "Python 3",
   "language": "python",
   "name": "python3"
  },
  "language_info": {
   "codemirror_mode": {
    "name": "ipython",
    "version": 2
   },
   "file_extension": ".py",
   "mimetype": "text/x-python",
   "name": "python",
   "nbconvert_exporter": "python",
   "pygments_lexer": "ipython2",
   "version": "2.7.6"
  }
 },
 "nbformat": 4,
 "nbformat_minor": 0
}