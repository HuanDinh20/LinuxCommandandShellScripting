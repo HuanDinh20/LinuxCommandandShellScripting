{
 "cells": [
  {
   "cell_type": "markdown",
   "source": [
    "# Scheduling Jobs using Cron\n",
    "<img src=\"img.png\"/>"
   ],
   "metadata": {
    "collapsed": false,
    "pycharm": {
     "name": "#%% md\n"
    }
   }
  },
  {
   "cell_type": "markdown",
   "source": [
    "## Jobs Scheduling\n",
    "<img src=\"img_1.png\"/>"
   ],
   "metadata": {
    "collapsed": false,
    "pycharm": {
     "name": "#%% md\n"
    }
   }
  },
  {
   "cell_type": "markdown",
   "source": [
    "## Cron--Crond--CrondTab"
   ],
   "metadata": {
    "collapsed": false,
    "pycharm": {
     "name": "#%% md\n"
    }
   }
  },
  {
   "cell_type": "markdown",
   "source": [
    "<img src=\"img_2.png\"/>"
   ],
   "metadata": {
    "collapsed": false,
    "pycharm": {
     "name": "#%% md\n"
    }
   }
  },
  {
   "cell_type": "markdown",
   "source": [
    "1. Cron is the general name of the tool that runs scheduled jobs consisting of shell commands or shell scripts.\n",
    "2. Crond is the daemon or service that interprets “crontab files” every minute and submits the corresponding jobs to cron at scheduled\n",
    "times.\n",
    "3.  A crontab, short for “cron table,” is a file containing jobs and schedule data. Crontab is also a command that invokes a text editor to allow you to edit a crontab file."
   ],
   "metadata": {
    "collapsed": false,
    "pycharm": {
     "name": "#%% md\n"
    }
   }
  },
  {
   "cell_type": "markdown",
   "source": [
    "## Scheduling Cron Jobs With Crontab\n",
    "<img src=\"img_3.png\"/>"
   ],
   "metadata": {
    "collapsed": false,
    "pycharm": {
     "name": "#%% md\n"
    }
   }
  },
  {
   "cell_type": "markdown",
   "source": [
    "Entering crontab “- e” on the command line opens the default text editor. Using the editor, you can specify a new schedule and a command, which has the following syntax: “command” can be any shell command, including a call to a shell script. The symbols stand for minute, hour, day of month, month, and day of week. All five positions must have either a numeric entry or an asterisk, which is a wildcard symbol that means “any.” For example, the following syntax means: append the current date to the file ‘sundays.txt’ at 15:30 every Sunday. Closing the editor and saving the changes adds the job to the cron table"
   ],
   "metadata": {
    "collapsed": false,
    "pycharm": {
     "name": "#%% md\n"
    }
   }
  },
  {
   "cell_type": "markdown",
   "source": [
    "## Scheduling Cron Jobs With Crontab\n",
    "**crontab -e** to open default editors"
   ],
   "metadata": {
    "collapsed": false,
    "pycharm": {
     "name": "#%% md\n"
    }
   }
  },
  {
   "cell_type": "markdown",
   "source": [
    "<img src=\"img_4.png\">"
   ],
   "metadata": {
    "collapsed": false,
    "pycharm": {
     "name": "#%% md\n"
    }
   }
  },
  {
   "cell_type": "markdown",
   "source": [
    "## Entering Jobs\n",
    "<img src=\"img_5.png\">"
   ],
   "metadata": {
    "collapsed": false,
    "pycharm": {
     "name": "#%% md\n"
    }
   }
  },
  {
   "cell_type": "markdown",
   "source": [
    " Here I have entered three example cron jobs. Notice that extra spaces are ignored, so to improve the readability you can align your entries as columns under the header. The first entry instructs cron to append the current date to the file ‘sundays.txt,’at 15:30 every Sunday. The next line specifies a “load data” shell script to run at midnight every day, while The last line results in cron running the “backup” data shell script to run at 2 AM on Sundays."
   ],
   "metadata": {
    "collapsed": false,
    "pycharm": {
     "name": "#%% md\n"
    }
   }
  },
  {
   "cell_type": "markdown",
   "source": [
    "\n",
    "<img src=\"img_6.png\">"
   ],
   "metadata": {
    "collapsed": false,
    "pycharm": {
     "name": "#%% md\n"
    }
   }
  },
  {
   "cell_type": "markdown",
   "source": [
    "<img src=\"img_7.png\">"
   ],
   "metadata": {
    "collapsed": false,
    "pycharm": {
     "name": "#%% md\n"
    }
   }
  },
  {
   "cell_type": "markdown",
   "source": [
    "# Summary\n",
    "<img src=\"img_8.png\">"
   ],
   "metadata": {
    "collapsed": false,
    "pycharm": {
     "name": "#%% md\n"
    }
   }
  },
  {
   "cell_type": "code",
   "execution_count": null,
   "outputs": [],
   "source": [],
   "metadata": {
    "collapsed": false,
    "pycharm": {
     "name": "#%%\n"
    }
   }
  }
 ],
 "metadata": {
  "kernelspec": {
   "display_name": "Python 3",
   "language": "python",
   "name": "python3"
  },
  "language_info": {
   "codemirror_mode": {
    "name": "ipython",
    "version": 2
   },
   "file_extension": ".py",
   "mimetype": "text/x-python",
   "name": "python",
   "nbconvert_exporter": "python",
   "pygments_lexer": "ipython2",
   "version": "2.7.6"
  }
 },
 "nbformat": 4,
 "nbformat_minor": 0
}