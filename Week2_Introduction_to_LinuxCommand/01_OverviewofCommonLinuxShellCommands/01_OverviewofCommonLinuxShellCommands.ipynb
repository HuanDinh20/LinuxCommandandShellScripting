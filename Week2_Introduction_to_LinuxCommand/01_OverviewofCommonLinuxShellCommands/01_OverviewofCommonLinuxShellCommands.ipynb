{
 "cells": [
  {
   "cell_type": "markdown",
   "source": [
    "# Overview of Common Linux Shell Commands\n",
    "## What is a Shell?\n",
    " A shell is\n",
    " 1. a powerful user interface for Unix-like operating systems.\n",
    " 2. It can interpret commands and run other programs.\n",
    "\n",
    " A shell, which enables access to files, utilities, and applications, is also an interactive language.\n",
    "\n",
    "A shell is also a scripting language. And it can be used to automate tasks.\n",
    "\n",
    "The default shell on Linux systems is usually Bash.\n",
    "\n",
    "<img src=\"img.png\" width=800>"
   ],
   "metadata": {
    "collapsed": false,
    "pycharm": {
     "name": "#%% md\n"
    }
   }
  },
  {
   "cell_type": "markdown",
   "source": [
    "## A sea of shells\n",
    "The default shell on Linux systems is usually Bash.\n",
    "\n",
    "Other shells include ‘the Bourne shell, S H,’ ‘the Korn shell,’ K S H, ‘T C shell,’ ‘Z shell,’ and ‘fish’ .\n",
    "\n",
    "`printenv SHELL`: This returns the path to the default shell program, which in this case is bash\n",
    "\n",
    "<img src=\"img_1.png\" width=800>\n",
    "\n",
    "## Shell Command Applications\n",
    "1. Getting information\n",
    "2. Navigating and working with files and directories\n",
    "3. Printing file and string contents\n",
    "4. File compression and archiving\n",
    "5. Performing network operations\n",
    "6. Monitoring performance and status of the system, its components and applications\n",
    "7. Running batch jobs, such as ETL operations\n",
    "\n",
    "#### Getting information\n",
    "Some common shell commands for getting information include:\n",
    "1. whoami: returns the user's username\n",
    "2. id: returns the current user and group IDs\n",
    "3. uname: returns the operating system name\n",
    "4. ps: displays running processes and their IDs\n",
    "5. top: displays running processes and resource usage including memory, CPU, and IO\n",
    "6. df: shows information about mounted file systems\n",
    "7. man: fetches the reference manual for any shell command\n",
    "8. date: prints today's date\n",
    "\n",
    "<img src=\"img_2.png\" width=800>"
   ],
   "metadata": {
    "collapsed": false,
    "pycharm": {
     "name": "#%% md\n"
    }
   }
  },
  {
   "cell_type": "markdown",
   "source": [
    "#### Working with Files\n",
    "1. cp: copy files\n",
    "2. mv: change file name or path\n",
    "3. rm: remove file\n",
    "4. touch: create empty file, update file timestamp\n",
    "5. chmod: change/modify file permissions\n",
    "6. wc:  get count of lines, words, characters in file\n",
    "7. grep: return lines in file matching pattern\n",
    "\n",
    "<img src=\"img_3.png\" width=800>\n",
    "\n",
    "#### Navigating and Working with directories\n",
    "1. ls: lists the files and directories in the current directory\n",
    "2. find: used to find files matching a pattern in the current directory tree\n",
    "3. pwd: prints the current, or ‘present working,’ director\n",
    "4. mkdir: makes a new directory\n",
    "5. cd: changes the current directory to another directory\n",
    "6. rmdir: removes an entire directory\n",
    "\n",
    "<img src=\"img_4.png\" width=800>"
   ],
   "metadata": {
    "collapsed": false,
    "pycharm": {
     "name": "#%% md\n"
    }
   }
  },
  {
   "cell_type": "markdown",
   "source": [
    "#### Printing Files and String contents\n",
    "1. cat: prints the entire contents of a file\n",
    "2. more: print file contents one page at a time\n",
    "3. head: printing just the first ‘N’ lines of a file\n",
    "4. tail: printing the last ‘N’ lines of a file\n",
    "5. echo: 'echoes' an input string by printing it, ‘echo’ the value of a variable\n",
    "\n",
    "<img src=\"img_5.png\" width=800>"
   ],
   "metadata": {
    "collapsed": false,
    "pycharm": {
     "name": "#%% md\n"
    }
   }
  },
  {
   "cell_type": "markdown",
   "source": [
    "#### Compress and Archiving\n",
    "1. tar: which is used to archive a set of files\n",
    "2. zip: which compresses a set of files\n",
    "3. unzip: extracts files from a compressed or zipped archive\n",
    "\n",
    "<img src=\"img_6.png\" width=800>\n",
    "\n",
    "#### Networking\n",
    "1. hostname: prints the host name\n",
    "2. ping: sends packets to a URL and prints the response\n",
    "3. ifconfig: displays or configures network interfaces on the system\n",
    "4. curl: displays the contents of a file located at a URL\n",
    "5. wget: command can be used to download a file from a URL\n",
    "\n",
    "<img src=\"img_7.png\" width=800>\n"
   ],
   "metadata": {
    "collapsed": false,
    "pycharm": {
     "name": "#%% md\n"
    }
   }
  },
  {
   "cell_type": "markdown",
   "source": [
    "#### Running Linux on a Windows machine\n",
    "<img src=\"img_8.png\" width=800>"
   ],
   "metadata": {
    "collapsed": false,
    "pycharm": {
     "name": "#%% md\n"
    }
   }
  },
  {
   "cell_type": "markdown",
   "source": [
    "## Summary\n",
    "<img src=\"img_9.png\" width=800>"
   ],
   "metadata": {
    "collapsed": false,
    "pycharm": {
     "name": "#%% md\n"
    }
   }
  },
  {
   "cell_type": "code",
   "execution_count": null,
   "outputs": [],
   "source": [],
   "metadata": {
    "collapsed": false,
    "pycharm": {
     "name": "#%%\n"
    }
   }
  }
 ],
 "metadata": {
  "kernelspec": {
   "display_name": "Python 3",
   "language": "python",
   "name": "python3"
  },
  "language_info": {
   "codemirror_mode": {
    "name": "ipython",
    "version": 2
   },
   "file_extension": ".py",
   "mimetype": "text/x-python",
   "name": "python",
   "nbconvert_exporter": "python",
   "pygments_lexer": "ipython2",
   "version": "2.7.6"
  }
 },
 "nbformat": 4,
 "nbformat_minor": 0
}