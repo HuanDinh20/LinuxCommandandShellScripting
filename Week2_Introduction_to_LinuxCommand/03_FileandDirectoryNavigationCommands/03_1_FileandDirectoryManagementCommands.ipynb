{
 "cells": [
  {
   "cell_type": "markdown",
   "source": [
    "### Creating Directories\n",
    "mkdir - Make directory\n",
    "### Removing files and directories\n",
    "rm - remove file or directory:\n",
    "for example:\n",
    "$rm file1\n",
    "$rm -r folder1\n",
    "\n",
    "<img src=\"img_6.png\"/>"
   ],
   "metadata": {
    "collapsed": false,
    "pycharm": {
     "name": "#%% md\n"
    }
   }
  },
  {
   "cell_type": "markdown",
   "source": [
    "rm -r, the -r option means you want to remove the directory along with all its child file objects\n",
    "\n",
    "*rmdir emty_folder*:  “rmdir” command which is used solely to remove empty directories. This guarantees that you’ll never accidentally delete any important files or directories.\n",
    "\n",
    "### Creating Files\n",
    "The “touch” command can be used to create empty files\n",
    "\n",
    "`touch a.txt b.txt c.txt`\n",
    "\n",
    "### Copying Files amd directories\n",
    "\n",
    "cp - Copy file or directory to destination\n",
    "\n",
    "To copy files:\n",
    "`cp source_dir destination_dir`\n",
    "\n",
    "to copy all directory, using -r option\n",
    "\n",
    "<img src=\"img_7.png\"/>"
   ],
   "metadata": {
    "collapsed": false,
    "pycharm": {
     "name": "#%% md\n"
    }
   }
  },
  {
   "cell_type": "markdown",
   "source": [
    "### Moving Files and Directories\n",
    "mv: Move a file or directory\n",
    "`mv source_dir destination_dir`\n",
    "\n",
    "<img src=\"img_8.png\"/>"
   ],
   "metadata": {
    "collapsed": false,
    "pycharm": {
     "name": "#%% md\n"
    }
   }
  },
  {
   "cell_type": "markdown",
   "source": [
    "### Managing file permissions\n",
    "\n",
    "*chmode* - change mode- Change file permissions\n",
    "\n",
    "<img src=\"img_9.png\"/>"
   ],
   "metadata": {
    "collapsed": false,
    "pycharm": {
     "name": "#%% md\n"
    }
   }
  },
  {
   "cell_type": "markdown",
   "source": [
    "<img src=\"img_10.png\" width=800>"
   ],
   "metadata": {
    "collapsed": false,
    "pycharm": {
     "name": "#%% md\n"
    }
   }
  },
  {
   "cell_type": "code",
   "execution_count": null,
   "outputs": [],
   "source": [],
   "metadata": {
    "collapsed": false,
    "pycharm": {
     "name": "#%%\n"
    }
   }
  }
 ],
 "metadata": {
  "kernelspec": {
   "display_name": "Python 3",
   "language": "python",
   "name": "python3"
  },
  "language_info": {
   "codemirror_mode": {
    "name": "ipython",
    "version": 2
   },
   "file_extension": ".py",
   "mimetype": "text/x-python",
   "name": "python",
   "nbconvert_exporter": "python",
   "pygments_lexer": "ipython2",
   "version": "2.7.6"
  }
 },
 "nbformat": 4,
 "nbformat_minor": 0
}