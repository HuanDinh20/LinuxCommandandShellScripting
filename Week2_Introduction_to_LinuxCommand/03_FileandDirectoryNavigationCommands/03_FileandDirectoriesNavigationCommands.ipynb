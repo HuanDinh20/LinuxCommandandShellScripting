{
 "cells": [
  {
   "cell_type": "markdown",
   "source": [
    "# Objectives\n",
    "1. List directory contents,\n",
    "2. Navigate directories, And,\n",
    "3. Find files.\n",
    "\n",
    "## Listing Directory Contents\n",
    "1. ls - list: list files or directories\n",
    " The “L S” command will list the files and directories within a directory. If you enter “L S” in your home directory, you will see all files and directories that your home directory contains. You can also pass a directory name, such as “Downloads”, as a parameter to “L S”, which displays the contents of your Downloads folder. The “L S” command also supports further options to provide additional information.\n",
    "<img src=\"img.png\">"
   ],
   "metadata": {
    "collapsed": false,
    "pycharm": {
     "name": "#%% md\n"
    }
   }
  },
  {
   "cell_type": "markdown",
   "source": [
    " Now, suppose you are currently working in your documents folder. You can use “L S” with the “minus L” option, which will show child files and directories in a longer, more detailed format. And you can see all child files and directories along with additional details, such as: permissions, last-modified date, and owner.\n",
    "\n",
    "\n",
    "<img src=\"img_1.png\">\n",
    "\n",
    "## Where am I?\n",
    "2. pwd - print working directories: get the current directory\n",
    "The “p w d” command will print the present working directory. You can enter “p w d” whenever you are not sure which directory you are in. Here you can see that you are currently working in your home directory, “slash users slash me”.\n",
    "\n",
    "<img src=\"img_2.png\">\n"
   ],
   "metadata": {
    "collapsed": false,
    "pycharm": {
     "name": "#%% md\n"
    }
   }
  },
  {
   "cell_type": "markdown",
   "source": [
    "## Navigating your Directories\n",
    "1. cd -  change directory: Change Directory\n",
    " The “cd” command is used to change the current working directory. Now, suppose you are in your home directory, and you wish to move to your Documents folder, which happens to be contained in your home directory You simply enter “c d Documents”. Now, if you enter “pwd”, you can see that you are indeed in your Documents folder. The “c d” command enables you to change directories with either an absolute path to the directory, which always starts from the base or “slash” directory, or as relative path, which starts from your current working directory.\n",
    "\n",
    "<img src=\"img_3.png\">\n",
    "\n",
    "Now, imagine you are in a “Notes” folder somewhere in your “Documents” directory tree. To get to your immediate parent directory, you can simply enter the cd command along with the relative path symbol, “dot dot” as its argument. Now, you can see you are in “Math”, which is the parent directory of your notes folder. If you want to get to your home folder directly, without having to explore to get there, then you can simply use the “tilda” symbol. And you are now in your home folder. Tilda represents your absolute path to home. Finally, you can provide a full path to a directory. Here, you are referring to the absolute pathname for the Notes directory from where you started your journey. And as expected, you are now back where you started, in your Notes directory.\n",
    "\n"
   ],
   "metadata": {
    "collapsed": false,
    "pycharm": {
     "name": "#%% md\n"
    }
   }
  },
  {
   "cell_type": "markdown",
   "source": [
    "## Finding Files\n",
    "1. find: find diles in directory tree\n",
    "The “find” command is a powerful tool that will find the path to every file that matches a given user-specified criterion.\n",
    "<img src=\"img_4.png\">\n",
    "\n",
    "\n",
    " Now, suppose your Documents folder has a file structure as shown, with two subfolders, each containing a few files. And let’s say, you are currently in your Documents folder, and you want to find the path to all files called ”a dot text” within your “Documents” tree. To do so, you can simply type “find dot minus name a dot txt”. The “dot” argument means “search within here”, that is, from your current working directory.\n",
    "\n",
    "To perform a case-insensitive version of your search, you can use the “minus i name” option instead of “ i name”. And, indeed, you find the  same file, plus another file with the same name except that the letter “A” is uppercase.\n",
    "\n",
    "<img src=\"img_5.png\">"
   ],
   "metadata": {
    "collapsed": false,
    "pycharm": {
     "name": "#%% md\n"
    }
   }
  },
  {
   "cell_type": "markdown",
   "source": [
    "# Summary\n",
    "1. ls: list files and directories in a directory\n",
    "2. cd allows you to navigate directories\n",
    "3. find: find files"
   ],
   "metadata": {
    "collapsed": false,
    "pycharm": {
     "name": "#%% md\n"
    }
   }
  },
  {
   "cell_type": "code",
   "execution_count": null,
   "outputs": [],
   "source": [],
   "metadata": {
    "collapsed": false,
    "pycharm": {
     "name": "#%%\n"
    }
   }
  }
 ],
 "metadata": {
  "kernelspec": {
   "display_name": "Python 3",
   "language": "python",
   "name": "python3"
  },
  "language_info": {
   "codemirror_mode": {
    "name": "ipython",
    "version": 2
   },
   "file_extension": ".py",
   "mimetype": "text/x-python",
   "name": "python",
   "nbconvert_exporter": "python",
   "pygments_lexer": "ipython2",
   "version": "2.7.6"
  }
 },
 "nbformat": 4,
 "nbformat_minor": 0
}