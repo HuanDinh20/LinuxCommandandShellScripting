{
 "cells": [
  {
   "cell_type": "markdown",
   "source": [
    "# Objectives\n",
    "1. Find user information.\n",
    "2. Determine operating system information.\n",
    "3. Analyze disk usage.\n",
    "4. Describe and verify system health.\n",
    "5. List running processes and their resource usage. And finally,\n",
    "6. Execute additional miscellaneous commands and obtain information about them.\n",
    "<img src=\"img.png\" width=1000>"
   ],
   "metadata": {
    "collapsed": false,
    "pycharm": {
     "name": "#%% md\n"
    }
   }
  },
  {
   "cell_type": "markdown",
   "source": [
    "## User Information\n",
    "1. whoami: Returns User ID\n",
    "The command “whoami” will display the user’s identity. The “whoami” command takes no arguments and has no options.\n",
    "\n",
    "2. id: User Id or Group Id\n",
    "The “id” command returns the user ID and/or the user’s group ID.\n",
    "Here you see an example where “id” returns the numerical “id” of the user with the –u option.\n",
    "<img src=\"img_1.png\">"
   ],
   "metadata": {
    "collapsed": false,
    "pycharm": {
     "name": "#%% md\n"
    }
   }
  },
  {
   "cell_type": "markdown",
   "source": [
    "## System Information\n",
    "1. uname - Unix Name: return Os information\n",
    "* Kernel/Os name, version number\n",
    "<img src=\"img_2.png\">"
   ],
   "metadata": {
    "collapsed": false,
    "pycharm": {
     "name": "#%% md\n"
    }
   }
  },
  {
   "cell_type": "markdown",
   "source": [
    "## Displaying Disk Usage\n",
    "1. df - Disk Free: Show Disk Usage\n",
    "\n",
    "Entering “df minus H tilda” `df -h ~`, displays the following table, which is specific to “tilda” `~`, your home directory, such as all disks mounted on your home directory, and the percentage of storage used on each disk. The “minus h” `-h` option makes the output “human readable, expressing disk space in units like Gigabytes and Terabytes instead of Bytes. To view disk usage on all filesystems, you can also just type “df –h”. The output includes the size, the capacity used and available space for each filesystem.\n",
    "<img src=\"img_3.png\">"
   ],
   "metadata": {
    "collapsed": false,
    "pycharm": {
     "name": "#%% md\n"
    }
   }
  },
  {
   "cell_type": "markdown",
   "source": [
    "## Display Current Running Process\n",
    "1. ps - Process Status: Running Process\n",
    "`ps -u root`: to show only the processes running with root user privileges.This includes information such as the name of each running process, the process ID, and the time in minutes and seconds that each process has been running.\n",
    "<img src=\"img_4.png\">"
   ],
   "metadata": {
    "collapsed": false,
    "pycharm": {
     "name": "#%% md\n"
    }
   }
  },
  {
   "cell_type": "markdown",
   "source": [
    "## Monitoring System Health and Status\n",
    "1. top - Table of Process: Task manager\n",
    "* Show running process and their resource usage\n",
    "<img src=\"img_5.png\">\n",
    "\n",
    "The “top” command acts as a task manager and will show running processes and their resource usage. Here we show a usage example with the –n\n",
    "option to display the top three running tasks: chrome, top, and spotify. By default, tasks are sorted by CPU usage. We simplified the output for the sake of the presentation, but top provides many other details, like memory usage and the executable file location."
   ],
   "metadata": {
    "collapsed": false,
    "pycharm": {
     "name": "#%% md\n"
    }
   }
  },
  {
   "cell_type": "markdown",
   "source": [
    "## Getting Variable Values\n",
    "1. echo: print string or variable values\n",
    "\n",
    "The “echo” command prints the given string, or the value of a given variable. In Shell scripting, “echo” is commonly used as a print command. If you enter ”echo” you are basically saying “print nothing” so you just get a newline. If you would like to echo a single word without whitespace, such as “hello” you can just type “echo hello”. But if your string contains spaces, you need to use quotes. Then echo returns the quoted contents “Learning Linux is fun!” Finally, you can view the value of a variable, such as “PATH” by typing a dollar sign followed by the variable name, here we view each path of our system’s PATH variable, delimited by colons.\n",
    "\n",
    "<img src=\"img_6.png\">"
   ],
   "metadata": {
    "collapsed": false,
    "pycharm": {
     "name": "#%% md\n"
    }
   }
  },
  {
   "cell_type": "markdown",
   "source": [
    "## Getting Date Information\n",
    "1. date: display system date and time\n",
    "\n",
    "The “date” command displays the current system date and time. Entering “date” returns the default date format: day of week, day, month, year, time, and the time zone. You can extract parts from the date, like in this example, which prints “259 day of year”. The “percent letter” symbols in these arguments are used to extract properties of the current date. For example, “percent Y” is replaced by the current year, 2021. And, here is another example, where you can see that the day of the week has also been included.\n",
    "\n",
    "<img src=\"img_7.png\">"
   ],
   "metadata": {
    "collapsed": false,
    "pycharm": {
     "name": "#%% md\n"
    }
   }
  },
  {
   "cell_type": "markdown",
   "source": [
    "## Miscellaneous Information\n",
    "1. man: shows manual for any command\n",
    "<img src=\"img_8.png\">"
   ],
   "metadata": {
    "collapsed": false,
    "pycharm": {
     "name": "#%% md\n"
    }
   }
  },
  {
   "cell_type": "markdown",
   "source": [
    "# Summary\n",
    "1. Get user information with `whoami` and `id` command\n",
    "2. Check system disk usage using `df`\n",
    "3. See process load using `ps` and `top`\n",
    "4. Print string or variable values with `echo`\n",
    "5. Use `date` to extract date information\n",
    "6. Find manual for any command using `man`\n",
    "\n",
    "<img src=\"img_9.png\">"
   ],
   "metadata": {
    "collapsed": false,
    "pycharm": {
     "name": "#%% md\n"
    }
   }
  },
  {
   "cell_type": "code",
   "execution_count": null,
   "outputs": [],
   "source": [],
   "metadata": {
    "collapsed": false,
    "pycharm": {
     "name": "#%%\n"
    }
   }
  }
 ],
 "metadata": {
  "kernelspec": {
   "display_name": "Python 3",
   "language": "python",
   "name": "python3"
  },
  "language_info": {
   "codemirror_mode": {
    "name": "ipython",
    "version": 2
   },
   "file_extension": ".py",
   "mimetype": "text/x-python",
   "name": "python",
   "nbconvert_exporter": "python",
   "pygments_lexer": "ipython2",
   "version": "2.7.6"
  }
 },
 "nbformat": 4,
 "nbformat_minor": 0
}