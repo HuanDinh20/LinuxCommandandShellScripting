{
 "cells": [
  {
   "cell_type": "markdown",
   "source": [
    "# Practice exercises\n",
    "#### 1. Display your username\n",
    "`whoami`\n",
    "<img src=\"img_27.png\">\n",
    "#### 2. View the kernel version\n",
    "`uname -r`\n",
    "<img src=\"img_28.png\">\n",
    "\n",
    "#### 3. Display the number of lines in the /etc/passwd file.\n",
    "`wc -l /etc/passwd`"
   ],
   "metadata": {
    "collapsed": false,
    "pycharm": {
     "name": "#%% md\n"
    }
   }
  },
  {
   "cell_type": "markdown",
   "source": [
    "#### 4. Display the lines that contain the string 'not installed' in /var/log/bootstrap.log.\n",
    "`grep \"not install\" /var/log/bootstrap.log`\n",
    "<img src=\"img_29.png\">"
   ],
   "metadata": {
    "collapsed": false,
    "pycharm": {
     "name": "#%% md\n"
    }
   }
  },
  {
   "cell_type": "markdown",
   "source": [
    "#### 5. https://cf-courses-data.s3.us.cloud-object-storage.appdomain.cloud/IBM-DB0250EN-SkillsNetwork/labs/Bash%20Scripting/top-sites.txt contains most popular websites. Find out all the websites that have the word org in them.\n",
    "\n",
    "1. wget https://cf-courses-data.s3.us.cloud-object-storage.appdomain.cloud/IBM-DB0250EN-SkillsNetwork/labs/Bash%20Scripting/top-sites.txt\n",
    "2. grep 'org' top-sites.txt\n",
    "\n",
    "<img src=\"img_30.png\"/>"
   ],
   "metadata": {
    "collapsed": false,
    "pycharm": {
     "name": "#%% md\n"
    }
   }
  },
  {
   "cell_type": "markdown",
   "source": [
    "#### 6, 7, 8: Print the first + last 7 lines of top-sites.txt. Zip the file top-sites.txt into a file called top-sites.zip\n",
    "<img src=\"img_31.png\">"
   ],
   "metadata": {
    "collapsed": false,
    "pycharm": {
     "name": "#%% md\n"
    }
   }
  },
  {
   "cell_type": "markdown",
   "source": [
    "#### 9. Print the first three characters of each line from top-sites.txt\n",
    "`cut -c -3 top-sites.txt`"
   ],
   "metadata": {
    "collapsed": false,
    "pycharm": {
     "name": "#%% md\n"
    }
   }
  },
  {
   "cell_type": "markdown",
   "source": [
    "<img src=\"img_32.png\"/>"
   ],
   "metadata": {
    "collapsed": false,
    "pycharm": {
     "name": "#%% md\n"
    }
   }
  },
  {
   "cell_type": "markdown",
   "source": [
    "#### Print details of the eth0 internet adapter\n",
    "`ifconfig eth0`"
   ],
   "metadata": {
    "collapsed": false,
    "pycharm": {
     "name": "#%% md\n"
    }
   }
  },
  {
   "cell_type": "markdown",
   "source": [
    "<img src=\"img_33.png\"/>"
   ],
   "metadata": {
    "collapsed": false,
    "pycharm": {
     "name": "#%% md\n"
    }
   }
  },
  {
   "cell_type": "code",
   "execution_count": null,
   "outputs": [],
   "source": [],
   "metadata": {
    "collapsed": false,
    "pycharm": {
     "name": "#%%\n"
    }
   }
  }
 ],
 "metadata": {
  "kernelspec": {
   "display_name": "Python 3",
   "language": "python",
   "name": "python3"
  },
  "language_info": {
   "codemirror_mode": {
    "name": "ipython",
    "version": 2
   },
   "file_extension": ".py",
   "mimetype": "text/x-python",
   "name": "python",
   "nbconvert_exporter": "python",
   "pygments_lexer": "ipython2",
   "version": "2.7.6"
  }
 },
 "nbformat": 4,
 "nbformat_minor": 0
}