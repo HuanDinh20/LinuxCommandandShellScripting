{
 "cells": [
  {
   "cell_type": "markdown",
   "source": [
    "## Objectives\n",
    "<img src=\"img.png\"/>"
   ],
   "metadata": {
    "collapsed": false,
    "pycharm": {
     "name": "#%% md\n"
    }
   }
  },
  {
   "cell_type": "markdown",
   "source": [
    "<img src=\"img_1.png\"/>"
   ],
   "metadata": {
    "collapsed": false,
    "pycharm": {
     "name": "#%% md\n"
    }
   }
  },
  {
   "cell_type": "markdown",
   "source": [
    "\n",
    " Archiving and compression are distinct processes, which are usually combined.\n",
    " 1. Archiving is the process of storing information that you don’t use regularly but want to preserve.\n",
    " 2. An “archive file” is a collection of data files and directories that are stored as a single file. Archiving makes the collection more portable and serves as a backup in case of loss or corruption.\n",
    " 3. File compression, on the other hand, involves reducing the size of a file by taking advantage of redundancy in its information content. The main advantages of compression include preserving storage space, speeding up file transfers, and reducing bandwidth loads."
   ],
   "metadata": {
    "collapsed": false,
    "pycharm": {
     "name": "#%% md\n"
    }
   }
  },
  {
   "cell_type": "markdown",
   "source": [
    "## Directory tree archiving\n",
    "<img src=\"img_2.png\"/>\n",
    "\n",
    "Using the LS command with the –R option, you can recursively list all the directories and files in your current directory tree.\n",
    "\n",
    " You can use the “tar,” or “tape archiver” command to archive and de-archive files and directories. A popular term for an archived\n",
    "tar file is a ”tar ball.”"
   ],
   "metadata": {
    "collapsed": false,
    "pycharm": {
     "name": "#%% md\n"
    }
   }
  },
  {
   "cell_type": "markdown",
   "source": [
    "<img src=\"img_3.png\"/>"
   ],
   "metadata": {
    "collapsed": false,
    "pycharm": {
     "name": "#%% md\n"
    }
   }
  },
  {
   "cell_type": "markdown",
   "source": [
    "To archive your entire notes directory, including its subdirectories and all files within, enter the command: “tar -cf” a name for the archived file.\n",
    "\n",
    "1. The “c” option means ”create a new archive,” and\n",
    "2. the “f” flag tells tar to interpret its input from the file rather than from the default, which is standard input.\n",
    "\n",
    "If you would also like your archive to be compressed, you can enter the same command, except now you include the “-z” option, which filters the archive file through a GNU (pr. “geh-noo”) compression program called g-zip\n",
    "\n",
    "<img src=\"img_4.png\"/>"
   ],
   "metadata": {
    "collapsed": false,
    "pycharm": {
     "name": "#%% md\n"
    }
   }
  },
  {
   "cell_type": "markdown",
   "source": [
    "Adding the suffix “.gz” to the output name, ensures that Windows-based programs, for example, will correctly recognize the file type.\n",
    "\n",
    "<img src=\"img_5.png\"/>"
   ],
   "metadata": {
    "collapsed": false,
    "pycharm": {
     "name": "#%% md\n"
    }
   }
  },
  {
   "cell_type": "markdown",
   "source": [
    "You can check the contents of your archived notes file by calling tar on your \"notes\" tar ball with the “-t” or \"list\" option. This lists all the files and directories in your tar ball. And as expected, it has the same structure as your original notes folder,"
   ],
   "metadata": {
    "collapsed": false,
    "pycharm": {
     "name": "#%% md\n"
    }
   }
  },
  {
   "cell_type": "markdown",
   "source": [
    "<img src=\"img_6.png\"/>"
   ],
   "metadata": {
    "collapsed": false,
    "pycharm": {
     "name": "#%% md\n"
    }
   }
  },
  {
   "cell_type": "markdown",
   "source": [
    " You can enter \"tar -xf\" followed by the archive file name, \"notes.tar\", plus an optional destination name, for example,\"notes,\" which happens to be the default. The \"minus x“ option tells tar to extract file and directory objects from the archive."
   ],
   "metadata": {
    "collapsed": false,
    "pycharm": {
     "name": "#%% md\n"
    }
   }
  },
  {
   "cell_type": "markdown",
   "source": [
    "# Decomporess and Extracting\n",
    "<img src=\"img_7.png\"/>"
   ],
   "metadata": {
    "collapsed": false,
    "pycharm": {
     "name": "#%% md\n"
    }
   }
  },
  {
   "cell_type": "markdown",
   "source": [
    "Similarly, you can decompress a \"tar .gz\" file and extract the files from it. To unpack and decompress the notes.tar.gz file, you can enter “tar -xzf” followed by the compressed archive file name, “notes tar dot g z,” and an optional destination folder, “notes.”"
   ],
   "metadata": {
    "collapsed": false,
    "pycharm": {
     "name": "#%% md\n"
    }
   }
  },
  {
   "cell_type": "markdown",
   "source": [
    "<img src=\"img_8.png\">\n",
    "\n",
    "You can use the “zip” command to compress files and directories and package them into a single archive. Notice the order of operations that zip implements. Zzip compresses files prior to bundling them, Whereas tar, with the “-z” achieves compression by applying “g zip” on the entire tarball, but only after bundling it."
   ],
   "metadata": {
    "collapsed": false,
    "pycharm": {
     "name": "#%% md\n"
    }
   }
  },
  {
   "cell_type": "markdown",
   "source": [
    "<img src=\"img_10.png\"/>"
   ],
   "metadata": {
    "collapsed": false,
    "pycharm": {
     "name": "#%% md\n"
    }
   }
  },
  {
   "cell_type": "markdown",
   "source": [
    "<img src=\"img_11.png\"/>"
   ],
   "metadata": {
    "collapsed": false,
    "pycharm": {
     "name": "#%% md\n"
    }
   }
  },
  {
   "cell_type": "code",
   "execution_count": null,
   "outputs": [],
   "source": [],
   "metadata": {
    "collapsed": false,
    "pycharm": {
     "name": "#%%\n"
    }
   }
  }
 ],
 "metadata": {
  "kernelspec": {
   "display_name": "Python 3",
   "language": "python",
   "name": "python3"
  },
  "language_info": {
   "codemirror_mode": {
    "name": "ipython",
    "version": 2
   },
   "file_extension": ".py",
   "mimetype": "text/x-python",
   "name": "python",
   "nbconvert_exporter": "python",
   "pygments_lexer": "ipython2",
   "version": "2.7.6"
  }
 },
 "nbformat": 4,
 "nbformat_minor": 0
}