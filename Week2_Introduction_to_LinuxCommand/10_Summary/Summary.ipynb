{
 "cells": [
  {
   "cell_type": "markdown",
   "source": [
    "1. A shell is an interactive user interface\n",
    "2. You can use shell commands for navigating and working with files and directories, and to zip and unzip files\n",
    "3. You can use the “curl” and “wget” commands to display and download files from URLs\n",
    "4. The “echo” command prints string or variable values\n",
    "5. The “cat” and “tail” commands display file contents\n",
    "6. You can get user information with the \"whoami\" and \"id\" commands\n",
    "7. You can check system disk usage using the \"df\" command\n",
    "8. ls: list files\n",
    "9. “cd” command allows you to navigate directories\n",
    "10. The “touch” command allows you to create a file or update its last–modified timestamp\n",
    "11. The “mkdir” command creates directories and “rmdir” deletes empty directories\n",
    "12. You can determine line, word, and character counts with “wc”\n",
    "13. grep:  to get the lines of a file matching your desired criteria\n",
    "14. The “tar” command decompresses and unpacks a “tar.gz” archive\n",
    "15. You can view network configuration with “hostname” and “ifconfig”\n"
   ],
   "metadata": {
    "collapsed": false,
    "pycharm": {
     "name": "#%% md\n"
    }
   }
  },
  {
   "cell_type": "code",
   "execution_count": null,
   "outputs": [],
   "source": [],
   "metadata": {
    "collapsed": false,
    "pycharm": {
     "name": "#%%\n"
    }
   }
  }
 ],
 "metadata": {
  "kernelspec": {
   "display_name": "Python 3",
   "language": "python",
   "name": "python3"
  },
  "language_info": {
   "codemirror_mode": {
    "name": "ipython",
    "version": 2
   },
   "file_extension": ".py",
   "mimetype": "text/x-python",
   "name": "python",
   "nbconvert_exporter": "python",
   "pygments_lexer": "ipython2",
   "version": "2.7.6"
  }
 },
 "nbformat": 4,
 "nbformat_minor": 0
}