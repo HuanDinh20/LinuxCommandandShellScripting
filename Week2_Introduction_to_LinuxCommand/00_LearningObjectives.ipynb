{
 "cells": [
  {
   "cell_type": "markdown",
   "source": [
    "# Learning Objective\n",
    "1. Define what a shell is.\n",
    "2. Apply common shell commands.\n",
    "3. Find user information.\n",
    "4. Analyze disk usage.\n",
    "5. List directory contents.\n",
    "6. Find files.\n",
    "7. Create and delete files and directories from the terminal.\n",
    "8. Determine line, word, and character counts.\n",
    "9. Extract lines containing a specified pattern.\n",
    "10. Create archived files and unpack them.\n",
    "11. Examine your network configuration."
   ],
   "metadata": {
    "collapsed": false,
    "pycharm": {
     "name": "#%% md\n"
    }
   }
  },
  {
   "cell_type": "code",
   "execution_count": null,
   "outputs": [],
   "source": [],
   "metadata": {
    "collapsed": false,
    "pycharm": {
     "name": "#%%\n"
    }
   }
  }
 ],
 "metadata": {
  "kernelspec": {
   "display_name": "Python 3",
   "language": "python",
   "name": "python3"
  },
  "language_info": {
   "codemirror_mode": {
    "name": "ipython",
    "version": 2
   },
   "file_extension": ".py",
   "mimetype": "text/x-python",
   "name": "python",
   "nbconvert_exporter": "python",
   "pygments_lexer": "ipython2",
   "version": "2.7.6"
  }
 },
 "nbformat": 4,
 "nbformat_minor": 0
}