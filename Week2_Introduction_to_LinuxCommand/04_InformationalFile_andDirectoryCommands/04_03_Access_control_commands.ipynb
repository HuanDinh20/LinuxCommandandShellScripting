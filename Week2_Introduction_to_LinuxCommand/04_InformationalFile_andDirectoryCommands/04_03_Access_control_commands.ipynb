{
 "cells": [
  {
   "cell_type": "markdown",
   "source": [
    "# Access Control Commands\n",
    "Required files:\n",
    "Run the following code to acquire the required files for this exercise:\n",
    "`wget https://cf-courses-data.s3.us.cloud-object-storage.appdomain.cloud/IBM-LX0117EN-SkillsNetwork/labs/module%201/usdoi.txt`\n",
    "\n",
    "Each file and each directory has permissions set for three permission categories: the 'owner', the 'group' and 'all users'.\n",
    "\n",
    "The following permissions are set for each file and directory:\n",
    "1. r: read\n",
    "2. w: write\n",
    "3. x: execute\n",
    "\n",
    "To see the permissions currently set for a file, run the command ls -l."
   ],
   "metadata": {
    "collapsed": false,
    "pycharm": {
     "name": "#%% md\n"
    }
   }
  },
  {
   "cell_type": "markdown",
   "source": [
    "<img src=\"img_15.png\"/>"
   ],
   "metadata": {
    "collapsed": false,
    "pycharm": {
     "name": "#%% md\n"
    }
   }
  },
  {
   "cell_type": "markdown",
   "source": [
    "A sample output looks like:\n",
    "`-rw-r--r-- 1 theia theia 8121 May 31 16:45 usdoi.txt`\n",
    "\n",
    "The permissions set here are rw-r--r--. The - preceeding these permissions indicates that usdoi.txt is a file. If it were a directory, you would see a d instead of the -.\n",
    "\n",
    "1. The first three entries correspond to the owner,\n",
    "2. The next three correspond to the group, and\n",
    "3. The last threee are for all others.\n",
    "\n",
    "\n",
    "You can see the owner of the file has read and write permissions, while the user group only has read permissions, and all other users have read permission. No users have execute permissions, as indicated by the - instead of an x in the third position for each user category."
   ],
   "metadata": {
    "collapsed": false,
    "pycharm": {
     "name": "#%% md\n"
    }
   }
  },
  {
   "cell_type": "markdown",
   "source": [
    "#### 3.1. Change permissions\n",
    "**chmod**\n",
    "\n",
    "The chmod (change mode) command lets you change the permissions set for a file.\n",
    "\n",
    "The change of permissions is specified with the help of a combination of the following characters:\n",
    "1. r, w and x\tpermissions: read, write and execute, respectively\n",
    "2. u,g and o\tuser categories: owner, group and all others, respectively\n",
    "3. +, -\toperations: grant and revoke, respectively"
   ],
   "metadata": {
    "collapsed": false,
    "pycharm": {
     "name": "#%% md\n"
    }
   }
  },
  {
   "cell_type": "markdown",
   "source": [
    "The command below removes read permission for all users (user, group and other) on the file `usdoi.txt`:\n",
    "chmod -r usdoi.txt\n",
    "\n",
    "\n",
    "To add read access to all users on usdoi.txt, enter:\n",
    "`chmod +r usdoi.txt `\n",
    "To remove the read permission for 'all other users' category, enter:\n",
    "`chmod o-r usdoi.txt`"
   ],
   "metadata": {
    "collapsed": false,
    "pycharm": {
     "name": "#%% md\n"
    }
   }
  },
  {
   "cell_type": "markdown",
   "source": [
    "<img src=\"img_16.png\" />"
   ],
   "metadata": {
    "collapsed": false,
    "pycharm": {
     "name": "#%% md\n"
    }
   }
  },
  {
   "cell_type": "code",
   "execution_count": null,
   "outputs": [],
   "source": [],
   "metadata": {
    "collapsed": false,
    "pycharm": {
     "name": "#%%\n"
    }
   }
  }
 ],
 "metadata": {
  "kernelspec": {
   "display_name": "Python 3",
   "language": "python",
   "name": "python3"
  },
  "language_info": {
   "codemirror_mode": {
    "name": "ipython",
    "version": 2
   },
   "file_extension": ".py",
   "mimetype": "text/x-python",
   "name": "python",
   "nbconvert_exporter": "python",
   "pygments_lexer": "ipython2",
   "version": "2.7.6"
  }
 },
 "nbformat": 4,
 "nbformat_minor": 0
}