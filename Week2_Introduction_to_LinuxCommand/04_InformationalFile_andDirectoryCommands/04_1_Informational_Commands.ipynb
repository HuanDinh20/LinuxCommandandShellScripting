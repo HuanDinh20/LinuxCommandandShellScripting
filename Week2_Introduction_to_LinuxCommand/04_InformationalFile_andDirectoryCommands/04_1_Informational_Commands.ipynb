{
 "cells": [
  {
   "cell_type": "markdown",
   "source": [
    "# Exercise 1 - Informational Commands\n",
    "#### 1.1. Display the name of the current user\n",
    "*whoami*"
   ],
   "metadata": {
    "collapsed": false,
    "pycharm": {
     "name": "#%% md\n"
    }
   }
  },
  {
   "cell_type": "code",
   "execution_count": 1,
   "outputs": [
    {
     "name": "stdout",
     "output_type": "stream",
     "text": [
      "huandinhakselos\\huan.akselos\n"
     ]
    }
   ],
   "source": [
    "!whoami"
   ],
   "metadata": {
    "collapsed": false,
    "pycharm": {
     "name": "#%%\n"
    }
   }
  },
  {
   "cell_type": "markdown",
   "source": [
    "It will display the user name, You can get a list of currently logged in users using the command `who`"
   ],
   "metadata": {
    "collapsed": false,
    "pycharm": {
     "name": "#%% md\n"
    }
   }
  },
  {
   "cell_type": "code",
   "execution_count": 3,
   "outputs": [
    {
     "name": "stderr",
     "output_type": "stream",
     "text": [
      "'who' is not recognized as an internal or external command,\n",
      "operable program or batch file.\n"
     ]
    }
   ],
   "source": [
    "!who # who not work in jupyter notebook, but can work in linux"
   ],
   "metadata": {
    "collapsed": false,
    "pycharm": {
     "name": "#%%\n"
    }
   }
  },
  {
   "cell_type": "code",
   "execution_count": 4,
   "outputs": [
    {
     "name": "stderr",
     "output_type": "stream",
     "text": [
      "'uname' is not recognized as an internal or external command,\n",
      "operable program or batch file.\n"
     ]
    }
   ],
   "source": [
    "!uname"
   ],
   "metadata": {
    "collapsed": false,
    "pycharm": {
     "name": "#%%\n"
    }
   }
  },
  {
   "cell_type": "markdown",
   "source": [
    "#### 1.2. Get basic information about the operating system\n",
    "*uname*\n",
    "You will see Linux printed in the output.\n",
    "Using the -a opton prints all the system information in the following order:\n",
    "1. Kernel name,\n",
    "2. network node hostname,\n",
    "3. kernel release date,\n",
    "4. kernel version,\n",
    "5. machine hardware name,\n",
    "6. hardware platform,\n",
    "7. operating system.\n",
    "\n",
    "\n",
    "#### 1.3. Obtain the user and group identity information\n",
    "This command displays the user id and group id information of the current user.\n",
    "*id*\n",
    "It will display\n",
    "1. the uid (user id) and\n",
    "2. gid (group id\n",
    "\n",
    "<img src=\"img_1.png\"/>"
   ],
   "metadata": {
    "collapsed": false,
    "pycharm": {
     "name": "#%% md\n"
    }
   }
  },
  {
   "cell_type": "markdown",
   "source": [
    "#### 1.4 Get available disk space\n",
    "*df*\n",
    "The df command is used to display available disk space\n",
    "\n",
    "*df -h*: displays the human-readable format\n",
    "\n",
    "<img src=\"img_2.png\"/>"
   ],
   "metadata": {
    "collapsed": false,
    "pycharm": {
     "name": "#%% md\n"
    }
   }
  },
  {
   "cell_type": "markdown",
   "source": [
    "#### 1.5. View currently running processes\n",
    "The ps command lists each processes that is currently running and its PID (process id).\n",
    "\n",
    "*ps*\n",
    "However, the output only contains the processes that are owned by you.\n",
    "*ps -e*: include other user\n",
    "<img src=\"img_3.png\"/>"
   ],
   "metadata": {
    "collapsed": false,
    "pycharm": {
     "name": "#%% md\n"
    }
   }
  },
  {
   "cell_type": "markdown",
   "source": [
    "#### 1.6. Get information on the running processes and system resources\n",
    "\n",
    "*top*\n",
    "The top command provides a dynamic, real-time view of your system.\n",
    "\n",
    "It shows summary information of the system and a table of more detailed information related to the processes or threads which are currently running and managed by the kernel. This includes information related to cpu and memory usage per process.\n",
    "\n",
    "<img src=\"img_4.png\"/>"
   ],
   "metadata": {
    "collapsed": false,
    "pycharm": {
     "name": "#%% md\n"
    }
   }
  },
  {
   "cell_type": "markdown",
   "source": [
    "When you start top, you'll be presented with the following elements on the main top screen:\n",
    "1. Summary area - shows information like system uptime, number of users, load average, and overall memory usage\n",
    "2. Column header - attribute names\n",
    "3. Task area - displays the data for each process, or PID\n",
    "\n",
    "The output keeps refreshing until you press q or Ctrl+c.\n",
    "If you want to exit automatically after a specified number of repetitions, use the -n option as follows:\n",
    "*top -n 10*\n",
    "\n",
    "You can press the following keys while top is running to sort the table:\n",
    "1. M\tMemory Usage\n",
    "2. P\tCPU Usage\n",
    "3. N\tProcess ID (PID)\n",
    "4. T\tRunning Time\n",
    "\n",
    "For example, you can find out which process is consuming the most memory by entering shift + m."
   ],
   "metadata": {
    "collapsed": false,
    "pycharm": {
     "name": "#%% md\n"
    }
   }
  },
  {
   "cell_type": "markdown",
   "source": [
    "#### 1.7. Display Messages\n",
    "*echo*"
   ],
   "metadata": {
    "collapsed": false,
    "pycharm": {
     "name": "#%% md\n"
    }
   }
  },
  {
   "cell_type": "code",
   "execution_count": 5,
   "outputs": [
    {
     "name": "stdout",
     "output_type": "stream",
     "text": [
      "\"MF\"\n"
     ]
    }
   ],
   "source": [
    "!echo \"MF\""
   ],
   "metadata": {
    "collapsed": false,
    "pycharm": {
     "name": "#%%\n"
    }
   }
  },
  {
   "cell_type": "code",
   "execution_count": 9,
   "outputs": [
    {
     "name": "stdout",
     "output_type": "stream",
     "text": [
      "-e \"M\\nF\"\n"
     ]
    }
   ],
   "source": [
    "!echo -e \"M\\nF\""
   ],
   "metadata": {
    "collapsed": false,
    "pycharm": {
     "name": "#%%\n"
    }
   }
  },
  {
   "cell_type": "markdown",
   "source": [
    "Use the -e option of the echo command when working with special characters. For example:\n",
    "echo -e \"This will be printed \\nin two lines\"\n",
    "\n",
    "special characters: \\n and \\t"
   ],
   "metadata": {
    "collapsed": false,
    "pycharm": {
     "name": "#%% md\n"
    }
   }
  },
  {
   "cell_type": "markdown",
   "source": [
    "<img src=\"img_5.png\" />"
   ],
   "metadata": {
    "collapsed": false,
    "pycharm": {
     "name": "#%% md\n"
    }
   }
  },
  {
   "cell_type": "markdown",
   "source": [
    "#### 1.8. Display date and time"
   ],
   "metadata": {
    "collapsed": false,
    "pycharm": {
     "name": "#%% md\n"
    }
   }
  },
  {
   "cell_type": "code",
   "execution_count": null,
   "outputs": [],
   "source": [
    "!date"
   ],
   "metadata": {
    "collapsed": false,
    "pycharm": {
     "name": "#%%\n"
    }
   }
  },
  {
   "cell_type": "markdown",
   "source": [
    "It has several options which help you display the current date and time in your favourite format.\n",
    "For example, the following command displays the current date in mm/dd/yy format.\n",
    "\n",
    "%d-\tDisplay the day of the month (01 to 31)\n",
    "%h-\tDisplays the abbreviated month name (Jan to Dec)\n",
    "%m-\tDisplays the month of year (01 to 12)\n",
    "%Y-\tDisplays the four-digit year\n",
    "%T-\tDisplays the time in 24 hour format as HH:MM:SS\n",
    "%H-\tDisplays the hour"
   ],
   "metadata": {
    "collapsed": false,
    "pycharm": {
     "name": "#%% md\n"
    }
   }
  },
  {
   "cell_type": "markdown",
   "source": [
    "for example date \"+%D%M%Y\"\n",
    "\n",
    "<img src=\"img_6.png\" />"
   ],
   "metadata": {
    "collapsed": false,
    "pycharm": {
     "name": "#%% md\n"
    }
   }
  },
  {
   "cell_type": "markdown",
   "source": [
    "#### 1.9. View the Reference Manual For a Command\n",
    "*man*:  displays the user manual for any command that you provide as its argument.\n",
    "\n",
    "<img src=\"img_7.png\">"
   ],
   "metadata": {
    "collapsed": false,
    "pycharm": {
     "name": "#%% md\n"
    }
   }
  },
  {
   "cell_type": "code",
   "execution_count": null,
   "outputs": [],
   "source": [],
   "metadata": {
    "collapsed": false,
    "pycharm": {
     "name": "#%%\n"
    }
   }
  }
 ],
 "metadata": {
  "kernelspec": {
   "display_name": "Python 3",
   "language": "python",
   "name": "python3"
  },
  "language_info": {
   "codemirror_mode": {
    "name": "ipython",
    "version": 2
   },
   "file_extension": ".py",
   "mimetype": "text/x-python",
   "name": "python",
   "nbconvert_exporter": "python",
   "pygments_lexer": "ipython2",
   "version": "2.7.6"
  }
 },
 "nbformat": 4,
 "nbformat_minor": 0
}