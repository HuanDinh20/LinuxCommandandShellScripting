{
 "cells": [
  {
   "cell_type": "markdown",
   "source": [
    "# File and directory management commands\n",
    "#### 2.1. Get the location of the current working directory\n",
    "*pwd*"
   ],
   "metadata": {
    "collapsed": false,
    "pycharm": {
     "name": "#%% md\n"
    }
   }
  },
  {
   "cell_type": "markdown",
   "source": [
    "#### 2.2. List the files and directories\n",
    "*ls*\n",
    "If your directory happens to be empty, ls will not return anything.\n",
    "The following command will list the many binary and executable files which are present in your /bin directory.\n",
    "\n",
    "*ls /bin*\n",
    "\n",
    "The /bin directory happens to be where Linux commmands such as ls and pwd are stored.\n",
    "For example, you can see that ls is present by entering:\n",
    "*ls /bin/ls*\n",
    "\n",
    "To list all files starting with b in the /bin directory, try entering:\n",
    "ls /bin/b*"
   ],
   "metadata": {
    "collapsed": false,
    "pycharm": {
     "name": "#%% md\n"
    }
   }
  },
  {
   "cell_type": "markdown",
   "source": [
    "To list all files ending in r in the /bin directory, enter:\n",
    "ls /bin/*r\n",
    "\n",
    "<img src=\"img_8.png\"/>"
   ],
   "metadata": {
    "collapsed": false,
    "pycharm": {
     "name": "#%% md\n"
    }
   }
  },
  {
   "cell_type": "markdown",
   "source": [
    "-a\tlist all files, including hidden files\n",
    "-d\tlist directories only, do not include files\n",
    "-h\twith -l and -s, print sizes like 1K, 234M, 2G\n",
    "-l\tinclude attributes like permissions, owner, size, and last-modified date\n",
    "-S\tsort by file size, largest first\n",
    "-t\tsort by last-modified date, newest first\n",
    "-r\treverse the sort order"
   ],
   "metadata": {
    "collapsed": false,
    "pycharm": {
     "name": "#%% md\n"
    }
   }
  },
  {
   "cell_type": "markdown",
   "source": [
    "<img src=\"img_9.png\"/>"
   ],
   "metadata": {
    "collapsed": false,
    "pycharm": {
     "name": "#%% md\n"
    }
   }
  },
  {
   "cell_type": "markdown",
   "source": [
    "#### 2.3. Create a directory\n",
    "**mkdir**\n",
    "\n",
    "#### 2.4. Change your current working directory.\n",
    "*cd scripts*\n",
    "*pwd*\n",
    "#### 2.5. Create an empty file\n",
    "*touch myfile.txt*: use the touch command to create an empty file named myfile\n",
    "and use use the date command to verify the date change:\n",
    "*date -r myfile.txt*\n",
    "\n",
    "<img src=\"img_10.png\">"
   ],
   "metadata": {
    "collapsed": false,
    "pycharm": {
     "name": "#%% md\n"
    }
   }
  },
  {
   "cell_type": "markdown",
   "source": [
    "#### 2.6. Search and locate files\n",
    "*find*\n",
    "<img src=\"img_11.png\">"
   ],
   "metadata": {
    "collapsed": false,
    "pycharm": {
     "name": "#%% md\n"
    }
   }
  },
  {
   "cell_type": "markdown",
   "source": [
    "Along with the listing of all .txt files, you may get some Permission denied errors.\n",
    "These error are normal, as you have limited access on the machine."
   ],
   "metadata": {
    "collapsed": false,
    "pycharm": {
     "name": "#%% md\n"
    }
   }
  },
  {
   "cell_type": "markdown",
   "source": [
    "#### 2.7. Remove files\n",
    "\n",
    "*rm*\n",
    "The rm command is used to delete files, and is ideally used along with the -i option, which makes it ask for confirmation before every deletion.\n",
    "\n",
    "<img src=\"img_12.png\">"
   ],
   "metadata": {
    "collapsed": false,
    "pycharm": {
     "name": "#%% md\n"
    }
   }
  },
  {
   "cell_type": "markdown",
   "source": [
    "#### 2.8. Move, Rename a file\n",
    "*mv*\n",
    "\n",
    "The mv command moves a file from one directory to another.\n",
    "Use caution when moving a file, because if the target file already exists, it will be overwritten by the source file.\n",
    "Conveniently however, if the source and target directories are the same, you can employ mv as a rename operation.\n",
    "\n",
    "To illustrate this, rename users.txt as user-info.txt by entering the following command:\n",
    "*mv user.txt user-info.txt*"
   ],
   "metadata": {
    "collapsed": false,
    "pycharm": {
     "name": "#%% md\n"
    }
   }
  },
  {
   "cell_type": "markdown",
   "source": [
    "<img src=\"img_13.png\"/>"
   ],
   "metadata": {
    "collapsed": false,
    "pycharm": {
     "name": "#%% md\n"
    }
   }
  },
  {
   "cell_type": "markdown",
   "source": [
    "#### 2.9. Copy files\n",
    "You can use the cp command to copy user-info.txt, which is now in your /tmp directory, to your current working directory as follows:\n",
    "<img src=\"img_14.png\"/>"
   ],
   "metadata": {
    "collapsed": false,
    "pycharm": {
     "name": "#%% md\n"
    }
   }
  },
  {
   "cell_type": "code",
   "execution_count": null,
   "outputs": [],
   "source": [],
   "metadata": {
    "collapsed": false,
    "pycharm": {
     "name": "#%%\n"
    }
   }
  }
 ],
 "metadata": {
  "kernelspec": {
   "display_name": "Python 3",
   "language": "python",
   "name": "python3"
  },
  "language_info": {
   "codemirror_mode": {
    "name": "ipython",
    "version": 2
   },
   "file_extension": ".py",
   "mimetype": "text/x-python",
   "name": "python",
   "nbconvert_exporter": "python",
   "pygments_lexer": "ipython2",
   "version": "2.7.6"
  }
 },
 "nbformat": 4,
 "nbformat_minor": 0
}