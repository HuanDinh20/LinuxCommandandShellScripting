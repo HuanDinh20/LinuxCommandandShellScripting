{
 "cells": [
  {
   "cell_type": "markdown",
   "source": [
    "# Practice exercises\n",
    "1. Display the content of /home directory.\n",
    "`ls /home`\n",
    "2. Ensure that you are in your home directory.\n",
    "`pwd`\n",
    "3. Create a new directory called final in your home directory.\n",
    "`touch final`\n",
    "4. View the permissions of the newly created directory, final.\n",
    "'ls -ld final'\n",
    "5. Create a new blank file named 'display.sh' in the final directory\n",
    "`touch ~/project/final/display.sh`\n",
    "6. Create a copy of display.sh called report.sh.\n",
    "`cp display.sh report.sh`\n",
    "7. Delete the file 'display.sh'.\n",
    "`rm -i display.sh`\n",
    "8. List the files in /etc directory in the ascending order of their access time.\n",
    "`ls -ltr /etc`\n",
    "9. Display the current time.\n",
    "`date`\n",
    "`date \"+%T\"`\n",
    "10. Copy the file /var/log/bootstrap.log to your current directory.\n",
    "`cp /var/log/bootstrap.log .`"
   ],
   "metadata": {
    "collapsed": false,
    "pycharm": {
     "name": "#%% md\n"
    }
   }
  },
  {
   "cell_type": "code",
   "execution_count": null,
   "outputs": [],
   "source": [],
   "metadata": {
    "collapsed": false,
    "pycharm": {
     "name": "#%%\n"
    }
   }
  }
 ],
 "metadata": {
  "kernelspec": {
   "display_name": "Python 3",
   "language": "python",
   "name": "python3"
  },
  "language_info": {
   "codemirror_mode": {
    "name": "ipython",
    "version": 2
   },
   "file_extension": ".py",
   "mimetype": "text/x-python",
   "name": "python",
   "nbconvert_exporter": "python",
   "pygments_lexer": "ipython2",
   "version": "2.7.6"
  }
 },
 "nbformat": 4,
 "nbformat_minor": 0
}