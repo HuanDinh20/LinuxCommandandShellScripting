{
 "cells": [
  {
   "cell_type": "markdown",
   "source": [
    "# Viewing File Contents\n",
    "<img src=\"img.png\"/>"
   ],
   "metadata": {
    "collapsed": false,
    "pycharm": {
     "name": "#%% md\n"
    }
   }
  },
  {
   "cell_type": "markdown",
   "source": [
    "<img src=\"img_1.png\"/>\n",
    "\n",
    "## View file all at once\n",
    "`cat`"
   ],
   "metadata": {
    "collapsed": false,
    "pycharm": {
     "name": "#%% md\n"
    }
   }
  },
  {
   "cell_type": "markdown",
   "source": [
    " The file is much longer than the 12 lines you see here. For this reason, you might not always want to use “cat” to view contents – thankfully, there are alternative commands for cases such as these. The **more** command allows you to view a file’s content in a page-by-page format.\n",
    " ## View Page-by-Page\n",
    " `more`"
   ],
   "metadata": {
    "collapsed": false,
    "pycharm": {
     "name": "#%% md\n"
    }
   }
  },
  {
   "cell_type": "markdown",
   "source": [
    "<img src=\"img_2.png\"/>\n",
    "\n",
    "\n",
    "By \"page\" we just mean the current terminal window. If you expand your terminal window vertically, you also increase the page size. And when you click the space bar you will see the next page."
   ],
   "metadata": {
    "collapsed": false,
    "pycharm": {
     "name": "#%% md\n"
    }
   }
  },
  {
   "cell_type": "markdown",
   "source": [
    "<img src=\"img_3.png\"/>"
   ],
   "metadata": {
    "collapsed": false,
    "pycharm": {
     "name": "#%% md\n"
    }
   }
  },
  {
   "cell_type": "raw",
   "source": [
    " Entering \"q\" quits the “more program” and returns you to the command prompt."
   ],
   "metadata": {
    "collapsed": false,
    "pycharm": {
     "name": "#%% raw\n"
    }
   }
  },
  {
   "cell_type": "markdown",
   "source": [
    "## Viewing the First and the Last N lines\n",
    "`head -n N *.txt`\n",
    "'tail -n N *.txt'"
   ],
   "metadata": {
    "collapsed": false,
    "pycharm": {
     "name": "#%% md\n"
    }
   }
  },
  {
   "cell_type": "markdown",
   "source": [
    "## Counts\n",
    "You can use the ”W C” command to count the number of characters, words, or lines in your file.\n",
    "\n",
    "<img src=\"img_4.png\"/>"
   ],
   "metadata": {
    "collapsed": false,
    "pycharm": {
     "name": "#%% md\n"
    }
   }
  },
  {
   "cell_type": "markdown",
   "source": [
    "You get the result ”7, 7, 28 pets dot text”, which means that your file contains 7 lines, 7 words, and 28 characters. But 7 times 3 is 21, so why does \"W C\" see 28 characters? Because it also counts newline characters"
   ],
   "metadata": {
    "collapsed": false,
    "pycharm": {
     "name": "#%% md\n"
    }
   }
  },
  {
   "cell_type": "markdown",
   "source": [
    "<img src=\"img_5.png\"/>\n",
    "\n",
    "To view only line count you can use the \"- L\" option, which returns ”7 pets dot txt”. Similarly, to view only word count you can\n",
    "use the \"- W\" option, and to view only character count you can use\n",
    "the \"- C\" option."
   ],
   "metadata": {
    "collapsed": false,
    "pycharm": {
     "name": "#%% md\n"
    }
   }
  },
  {
   "cell_type": "markdown",
   "source": [
    "# Summary\n",
    "<img src=\"img_6.png\"/>"
   ],
   "metadata": {
    "collapsed": false,
    "pycharm": {
     "name": "#%% md\n"
    }
   }
  },
  {
   "cell_type": "code",
   "execution_count": null,
   "outputs": [],
   "source": [],
   "metadata": {
    "collapsed": false,
    "pycharm": {
     "name": "#%%\n"
    }
   }
  }
 ],
 "metadata": {
  "kernelspec": {
   "display_name": "Python 3",
   "language": "python",
   "name": "python3"
  },
  "language_info": {
   "codemirror_mode": {
    "name": "ipython",
    "version": 2
   },
   "file_extension": ".py",
   "mimetype": "text/x-python",
   "name": "python",
   "nbconvert_exporter": "python",
   "pygments_lexer": "ipython2",
   "version": "2.7.6"
  }
 },
 "nbformat": 4,
 "nbformat_minor": 0
}